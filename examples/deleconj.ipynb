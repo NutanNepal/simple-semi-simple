{
 "cells": [
  {
   "cell_type": "code",
   "execution_count": 123,
   "id": "2fcbe88d",
   "metadata": {
    "vscode": {
     "languageId": "sage"
    }
   },
   "outputs": [],
   "source": [
    "import sys\n",
    "import os\n",
    "# Get the current directory and parent directory\n",
    "current_dir = os.getcwd()\n",
    "parent_dir = os.path.dirname(current_dir)\n",
    "sys.path.insert(0, parent_dir)\n",
    "sys.path.insert(0, current_dir)\n",
    "\n",
    "# Import from the-machine module\n",
    "import importlib.util\n",
    "the_machine_path = os.path.join(parent_dir, \"the-machine\")\n",
    "sys.path.insert(0, the_machine_path)\n",
    "\n",
    "# Import all from the-machine and custom_matroid_functions\n",
    "from HM_module import *\n",
    "from custom_matroid_functions import *"
   ]
  },
  {
   "cell_type": "code",
   "execution_count": 124,
   "id": "4a62970a",
   "metadata": {
    "vscode": {
     "languageId": "sage"
    }
   },
   "outputs": [
    {
     "name": "stdout",
     "output_type": "stream",
     "text": [
      "frozenset({0, 1, 2, 3, 4, 5, 6, 7, 8, 9})\n",
      "deleting  0\n"
     ]
    }
   ],
   "source": [
    "P = LaurentPolynomialRing(ZZ, 'x')\n",
    "x = P.gen()\n",
    "k, n = 4, 5\n",
    "M = matroids.CompleteGraphic(n)\n",
    "#M = matroids.Uniform(k, n)\n",
    "#M = matroids.catalog.Fano()\n",
    "L = M.lattice_of_flats()\n",
    "r = M.rank()\n",
    "rank_func = lambda x : M.rank(x)\n",
    "\n",
    "#e = next(x for x in M.groundset() if x  not in M.coloops())\n",
    "e = list(M.groundset())[0]\n",
    "print(M.groundset())\n",
    "print(\"deleting \", e)\n",
    "mdele = M.delete(e)\n",
    "Eq_M = create_deformed_algebra(M, base_ring=P)\n",
    "Eq_mdele = create_deformed_algebra(mdele, base_ring=P)\n",
    "E_mdele = Eq_mdele.natural()\n",
    "\n",
    "E = Eq_M.natural()\n",
    "E_basis = E.basis()\n",
    "E_mdele_basis = E_mdele.basis()\n",
    "\n",
    "C = Eq_M.C()\n",
    "C_dele = Eq_mdele.C()\n",
    "C_basis = C.basis()\n",
    "C_dele_basis = C_dele.basis()\n",
    "\n",
    "Z = Eq_M.zeta()\n",
    "Z_dele = Eq_mdele.zeta()\n",
    "Z_basis = Z.basis()\n",
    "\n",
    "flats_keys = list(E_basis.keys())"
   ]
  },
  {
   "cell_type": "code",
   "execution_count": 125,
   "id": "3d9f3d91",
   "metadata": {
    "vscode": {
     "languageId": "sage"
    }
   },
   "outputs": [],
   "source": [
    "def flat_division(M, e):\n",
    "    L = M.lattice_of_flats()\n",
    "    flat_div = {'S':set(), 'T':set(), 'A':set(), 'B':set()}\n",
    "    for F in L:\n",
    "        if e in F:\n",
    "            if F - {e} in L:\n",
    "                flat_div['T'].add(F)\n",
    "            else:\n",
    "                flat_div['A'].add(F)\n",
    "        else:\n",
    "            if F.union({e}) in L:\n",
    "                flat_div['S'].add(F)\n",
    "            else:\n",
    "                flat_div['B'].add(F)\n",
    "    return flat_div\n",
    "\n",
    "flat_div = flat_division(M, e)\n",
    "flat_div['S'].remove(frozenset())"
   ]
  },
  {
   "cell_type": "code",
   "execution_count": 126,
   "id": "2ae64bbd",
   "metadata": {
    "vscode": {
     "languageId": "sage"
    }
   },
   "outputs": [
    {
     "name": "stdout",
     "output_type": "stream",
     "text": [
      "rank of M:  4\n",
      "chow polynomial of M:  x^3 + 41*x^2 + 41*x + 1\n",
      "x^3 - 9*x^2 + 26*x - 24\n",
      "frozenset({9})\n",
      "frozenset({8})\n",
      "frozenset({7})\n",
      "frozenset({8, 9, 7})\n"
     ]
    }
   ],
   "source": [
    "print(\"rank of M: \", r)\n",
    "print(\"chow polynomial of M: \", chow_polynomial(M))\n",
    "print(reduced_characteristic_polynomial(M))\n",
    "for F in flat_div['S']:\n",
    "    print(F)"
   ]
  },
  {
   "cell_type": "code",
   "execution_count": 127,
   "id": "e27002b5",
   "metadata": {
    "vscode": {
     "languageId": "sage"
    }
   },
   "outputs": [
    {
     "name": "stdout",
     "output_type": "stream",
     "text": [
      "chow(M):  x^3 + 41*x^2 + 41*x + 1\n",
      "frozenset({9})\n",
      "--------------------------------\n",
      "poly1:  x^2 + 8*x + 1\n",
      "poly2:  x + 1\n",
      "poly3:  x^2 + 7*x + 1\n",
      "redchar:  1\n",
      "term:  2*x + x^2\n",
      "semismall:  x + x^2\n",
      "--------------------------------\n",
      "frozenset({8})\n",
      "--------------------------------\n",
      "poly1:  x^2 + 8*x + 1\n",
      "poly2:  x + 1\n",
      "poly3:  x^2 + 7*x + 1\n",
      "redchar:  1\n",
      "term:  2*x + x^2\n",
      "semismall:  x + x^2\n",
      "--------------------------------\n",
      "frozenset({7})\n",
      "--------------------------------\n",
      "poly1:  x^2 + 8*x + 1\n",
      "poly2:  x + 1\n",
      "poly3:  x^2 + 7*x + 1\n",
      "redchar:  1\n",
      "term:  2*x + x^2\n",
      "semismall:  x + x^2\n",
      "--------------------------------\n",
      "frozenset({8, 9, 7})\n",
      "--------------------------------\n",
      "poly1:  x + 1\n",
      "poly2:  1\n",
      "poly3:  x + 1\n",
      "redchar:  x - 2\n",
      "term:  -2*x + x^2\n",
      "semismall:  x + x^2\n",
      "--------------------------------\n",
      "sum2:  4*x + 4*x^2\n",
      "semismall:  4*x + 4*x^2\n"
     ]
    },
    {
     "data": {
      "text/plain": [
       "1 + 37*x + 37*x^2 + x^3"
      ]
     },
     "execution_count": 127,
     "metadata": {},
     "output_type": "execute_result"
    }
   ],
   "source": [
    "chow = chow_polynomial\n",
    "chibar = reduced_characteristic_polynomial\n",
    "\n",
    "def deleconj1(M, e, f):\n",
    "    mdele = M.delete(e)\n",
    "    sum1 = chow(M)\n",
    "    semismall = 0\n",
    "    sum2 = 0\n",
    "    print(\"chow(M): \", sum1)\n",
    "    for F in flat_div['S']:\n",
    "        poly1 = chow(M.contract(F))\n",
    "        poly2 = chow(M.contract(F.union({e})))\n",
    "        poly3 = chow(mdele.contract(F))\n",
    "        redchar = chibar(M.delete(M.groundset() - set(F)))\n",
    "        term = (poly1 + x*poly2 - poly3)*redchar\n",
    "        sum2 += term\n",
    "        semismall += P(x*f(M.contract(F.union({e}))) * f(M.delete(M.groundset() - set(F))))\n",
    "        print(F)\n",
    "        print(\"--------------------------------\")\n",
    "        print(\"poly1: \", poly1)\n",
    "        print(\"poly2: \", poly2)\n",
    "        print(\"poly3: \", poly3)\n",
    "        print(\"redchar: \", redchar)\n",
    "        print(\"term: \", term)\n",
    "        print(\"semismall: \", P(x*f(M.contract(F.union({e}))) * f(M.delete(M.groundset() - set(F)))))\n",
    "        print(\"--------------------------------\")\n",
    "    print(\"sum2: \", sum2)\n",
    "    print(\"semismall: \", semismall)\n",
    "    return P(sum1 - sum2)\n",
    "\n",
    "deleconj1(M, e, chow_polynomial)\n"
   ]
  },
  {
   "cell_type": "code",
   "execution_count": 128,
   "id": "8c3b6438",
   "metadata": {
    "vscode": {
     "languageId": "sage"
    }
   },
   "outputs": [
    {
     "name": "stdout",
     "output_type": "stream",
     "text": [
      "x^3 + 37*x^2 + 37*x + 1\n"
     ]
    }
   ],
   "source": [
    "print(chow(M.delete(e)))"
   ]
  }
 ],
 "metadata": {
  "kernelspec": {
   "display_name": "SageMath 10.3",
   "language": "sage",
   "name": "sagemath"
  },
  "language_info": {
   "codemirror_mode": {
    "name": "ipython",
    "version": 3
   },
   "file_extension": ".py",
   "mimetype": "text/x-python",
   "name": "python",
   "nbconvert_exporter": "python",
   "pygments_lexer": "ipython3",
   "version": "3.11.9"
  }
 },
 "nbformat": 4,
 "nbformat_minor": 5
}
