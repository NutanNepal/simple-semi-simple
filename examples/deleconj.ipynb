{
 "cells": [
  {
   "cell_type": "code",
   "execution_count": 147,
   "id": "2fcbe88d",
   "metadata": {
    "vscode": {
     "languageId": "sage"
    }
   },
   "outputs": [],
   "source": [
    "import sys\n",
    "import os\n",
    "# Get the current directory and parent directory\n",
    "current_dir = os.getcwd()\n",
    "parent_dir = os.path.dirname(current_dir)\n",
    "sys.path.insert(0, parent_dir)\n",
    "sys.path.insert(0, current_dir)\n",
    "\n",
    "# Import from the-machine module\n",
    "import importlib.util\n",
    "the_machine_path = os.path.join(parent_dir, \"the-machine\")\n",
    "sys.path.insert(0, the_machine_path)\n",
    "\n",
    "# Import all from the-machine and custom_matroid_functions\n",
    "from HM_module import *\n",
    "from custom_matroid_functions import *"
   ]
  },
  {
   "cell_type": "code",
   "execution_count": 148,
   "id": "4a62970a",
   "metadata": {
    "vscode": {
     "languageId": "sage"
    }
   },
   "outputs": [
    {
     "name": "stdout",
     "output_type": "stream",
     "text": [
      "frozenset({'c', 'f', 'b', 'g', 'd', 'a', 'e'})\n",
      "deleting  c\n"
     ]
    }
   ],
   "source": [
    "P = LaurentPolynomialRing(ZZ, 'x')\n",
    "x = P.gen()\n",
    "k, n = 4, 6\n",
    "#M = matroids.CompleteGraphic(n)\n",
    "#M = matroids.Uniform(k, n)\n",
    "M = matroids.catalog.Fano()\n",
    "L = M.lattice_of_flats()\n",
    "r = M.rank()\n",
    "rank_func = lambda x : M.rank(x)\n",
    "\n",
    "#e = next(x for x in M.groundset() if x  not in M.coloops())\n",
    "e = list(M.groundset())[0]\n",
    "print(M.groundset())\n",
    "print(\"deleting \", e)\n",
    "mdele = M.delete(e)\n",
    "Eq_M = create_deformed_algebra(M, base_ring=P)\n",
    "Eq_mdele = create_deformed_algebra(mdele, base_ring=P)\n",
    "E_mdele = Eq_mdele.natural()\n",
    "\n",
    "E = Eq_M.natural()\n",
    "E_basis = E.basis()\n",
    "E_mdele_basis = E_mdele.basis()\n",
    "\n",
    "C = Eq_M.C()\n",
    "C_dele = Eq_mdele.C()\n",
    "C_basis = C.basis()\n",
    "C_dele_basis = C_dele.basis()\n",
    "\n",
    "Z = Eq_M.zeta()\n",
    "Z_dele = Eq_mdele.zeta()\n",
    "Z_basis = Z.basis()\n",
    "\n",
    "flats_keys = list(E_basis.keys())"
   ]
  },
  {
   "cell_type": "code",
   "execution_count": 149,
   "id": "3d9f3d91",
   "metadata": {
    "vscode": {
     "languageId": "sage"
    }
   },
   "outputs": [
    {
     "name": "stdout",
     "output_type": "stream",
     "text": [
      "set()\n"
     ]
    }
   ],
   "source": [
    "def flat_division(M, e):\n",
    "    L = M.lattice_of_flats()\n",
    "    flat_div = {'S':set(), 'T':set(), 'A':set(), 'B':set()}\n",
    "    for F in L:\n",
    "        if e in F:\n",
    "            if F - {e} in L:\n",
    "                flat_div['T'].add(F)\n",
    "            else:\n",
    "                flat_div['A'].add(F)\n",
    "        else:\n",
    "            if F.union({e}) in L:\n",
    "                flat_div['S'].add(F)\n",
    "            else:\n",
    "                flat_div['B'].add(F)\n",
    "    return flat_div\n",
    "\n",
    "flat_div = flat_division(M, e)\n",
    "flat_div['S'].remove(frozenset())\n",
    "print(flat_div['S'])"
   ]
  },
  {
   "cell_type": "code",
   "execution_count": 150,
   "id": "2ae64bbd",
   "metadata": {
    "vscode": {
     "languageId": "sage"
    }
   },
   "outputs": [
    {
     "name": "stdout",
     "output_type": "stream",
     "text": [
      "rank of M:  3\n",
      "chow polynomial of M:  x^2 + 8*x + 1\n",
      "x^2 - 6*x + 8\n"
     ]
    }
   ],
   "source": [
    "print(\"rank of M: \", r)\n",
    "print(\"chow polynomial of M: \", chow_polynomial(M))\n",
    "print(reduced_characteristic_polynomial(M))\n",
    "for F in flat_div['S']:\n",
    "    print(F)"
   ]
  },
  {
   "cell_type": "code",
   "execution_count": 151,
   "id": "e27002b5",
   "metadata": {
    "vscode": {
     "languageId": "sage"
    }
   },
   "outputs": [
    {
     "data": {
      "text/plain": [
       "1 + 8*x + x^2"
      ]
     },
     "execution_count": 151,
     "metadata": {},
     "output_type": "execute_result"
    }
   ],
   "source": [
    "chow = chow_polynomial\n",
    "chibar = reduced_characteristic_polynomial\n",
    "\n",
    "def deleconj1(M, e, f):\n",
    "    mdele = M.delete(e)\n",
    "    sum1 = chow(M)\n",
    "    sum2 = 0\n",
    "    for F in flat_div['S']:\n",
    "        poly1 = chow(M.contract(F))\n",
    "        poly2 = chow(M.contract(F.union({e})))\n",
    "        poly3 = chow(mdele.contract(F))\n",
    "        sum2 += (poly1 + x*poly2 - poly3)*chibar(M.delete(M.groundset() - set(F)))\n",
    "    return P(sum1 - sum2)\n",
    "\n",
    "deleconj1(M, e, chow_polynomial)\n"
   ]
  },
  {
   "cell_type": "code",
   "execution_count": null,
   "id": "8c3b6438",
   "metadata": {
    "vscode": {
     "languageId": "sage"
    }
   },
   "outputs": [
    {
     "name": "stdout",
     "output_type": "stream",
     "text": [
      "x^2 + 8*x + 1\n"
     ]
    },
    {
     "ename": "ValueError",
     "evalue": "frozenset({1, 5}) is not a subset of the groundset",
     "output_type": "error",
     "traceback": [
      "\u001b[0;31m---------------------------------------------------------------------------\u001b[0m",
      "\u001b[0;31mValueError\u001b[0m                                Traceback (most recent call last)",
      "Cell \u001b[0;32mIn[152], line 2\u001b[0m\n\u001b[1;32m      1\u001b[0m \u001b[38;5;28mprint\u001b[39m(chow(M\u001b[38;5;241m.\u001b[39mdelete(e)))\n\u001b[0;32m----> 2\u001b[0m \u001b[38;5;28mprint\u001b[39m(chow(\u001b[43mM\u001b[49m\u001b[38;5;241;43m.\u001b[39;49m\u001b[43mcontract\u001b[49m\u001b[43m(\u001b[49m\u001b[38;5;28;43mfrozenset\u001b[39;49m\u001b[43m(\u001b[49m\u001b[43m{\u001b[49m\u001b[43mInteger\u001b[49m\u001b[43m(\u001b[49m\u001b[38;5;241;43m1\u001b[39;49m\u001b[43m)\u001b[49m\u001b[43m,\u001b[49m\u001b[43m \u001b[49m\u001b[43mInteger\u001b[49m\u001b[43m(\u001b[49m\u001b[38;5;241;43m5\u001b[39;49m\u001b[43m)\u001b[49m\u001b[43m}\u001b[49m\u001b[43m)\u001b[49m\u001b[43m)\u001b[49m))\n\u001b[1;32m      3\u001b[0m \u001b[38;5;28mprint\u001b[39m(chow(M\u001b[38;5;241m.\u001b[39mdelete(e)\u001b[38;5;241m.\u001b[39mcontract(\u001b[38;5;28mfrozenset\u001b[39m({Integer(\u001b[38;5;241m1\u001b[39m), Integer(\u001b[38;5;241m5\u001b[39m)}))))\n",
      "File \u001b[0;32m/private/var/tmp/sage-10.3-current/local/var/lib/sage/venv-python3.11.8/lib/python3.11/site-packages/sage/matroids/matroid.pyx:3803\u001b[0m, in \u001b[0;36msage.matroids.matroid.Matroid.contract (build/cythonized/sage/matroids/matroid.c:51237)\u001b[0;34m()\u001b[0m\n\u001b[1;32m   3801\u001b[0m     return self._minor(conset, delset)\n\u001b[1;32m   3802\u001b[0m \n\u001b[0;32m-> 3803\u001b[0m cpdef contract(self, X) noexcept:\n\u001b[1;32m   3804\u001b[0m     r\"\"\"\n\u001b[1;32m   3805\u001b[0m     Contract elements.\n",
      "File \u001b[0;32m/private/var/tmp/sage-10.3-current/local/var/lib/sage/venv-python3.11.8/lib/python3.11/site-packages/sage/matroids/matroid.pyx:3869\u001b[0m, in \u001b[0;36msage.matroids.matroid.Matroid.contract (build/cythonized/sage/matroids/matroid.c:51104)\u001b[0;34m()\u001b[0m\n\u001b[1;32m   3867\u001b[0m         ['a', 'b', 'c']\n\u001b[1;32m   3868\u001b[0m     \"\"\"\n\u001b[0;32m-> 3869\u001b[0m     return self.minor(contractions=X)\n\u001b[1;32m   3870\u001b[0m \n\u001b[1;32m   3871\u001b[0m def __truediv__(self, X):\n",
      "File \u001b[0;32m/private/var/tmp/sage-10.3-current/local/var/lib/sage/venv-python3.11.8/lib/python3.11/site-packages/sage/matroids/matroid.pyx:3800\u001b[0m, in \u001b[0;36msage.matroids.matroid.Matroid.minor (build/cythonized/sage/matroids/matroid.c:50774)\u001b[0;34m()\u001b[0m\n\u001b[1;32m   3798\u001b[0m if (not isinstance(deletions, (str, Iterable)) and deletions is not None):\n\u001b[1;32m   3799\u001b[0m     deletions = [deletions]\n\u001b[0;32m-> 3800\u001b[0m conset, delset = sanitize_contractions_deletions(self, contractions, deletions)\n\u001b[1;32m   3801\u001b[0m return self._minor(conset, delset)\n\u001b[1;32m   3802\u001b[0m \n",
      "File \u001b[0;32m/private/var/tmp/sage-10.3-current/local/var/lib/sage/venv-python3.11.8/lib/python3.11/site-packages/sage/matroids/utilities.py:232\u001b[0m, in \u001b[0;36msanitize_contractions_deletions\u001b[0;34m(matroid, contractions, deletions)\u001b[0m\n\u001b[1;32m    230\u001b[0m     contractions \u001b[38;5;241m=\u001b[39m \u001b[38;5;28mfrozenset\u001b[39m()\n\u001b[1;32m    231\u001b[0m \u001b[38;5;28;01melse\u001b[39;00m:\n\u001b[0;32m--> 232\u001b[0m     contractions \u001b[38;5;241m=\u001b[39m \u001b[43mmatroid\u001b[49m\u001b[38;5;241;43m.\u001b[39;49m\u001b[43m_subset\u001b[49m\u001b[43m(\u001b[49m\u001b[43mcontractions\u001b[49m\u001b[43m)\u001b[49m\n\u001b[1;32m    234\u001b[0m \u001b[38;5;28;01mif\u001b[39;00m \u001b[38;5;129;01mnot\u001b[39;00m deletions:\n\u001b[1;32m    235\u001b[0m     deletions \u001b[38;5;241m=\u001b[39m \u001b[38;5;28mfrozenset\u001b[39m()\n",
      "File \u001b[0;32m/private/var/tmp/sage-10.3-current/local/var/lib/sage/venv-python3.11.8/lib/python3.11/site-packages/sage/matroids/matroid.pyx:1300\u001b[0m, in \u001b[0;36msage.matroids.matroid.Matroid._subset (build/cythonized/sage/matroids/matroid.c:27457)\u001b[0;34m()\u001b[0m\n\u001b[1;32m   1298\u001b[0m     \"\"\"\n\u001b[1;32m   1299\u001b[0m     # Call corresponding Cython method\n\u001b[0;32m-> 1300\u001b[0m     return self._subset_internal(X)\n\u001b[1;32m   1301\u001b[0m \n\u001b[1;32m   1302\u001b[0m def _subset_all(self, X):\n",
      "File \u001b[0;32m/private/var/tmp/sage-10.3-current/local/var/lib/sage/venv-python3.11.8/lib/python3.11/site-packages/sage/matroids/matroid.pxd:48\u001b[0m, in \u001b[0;36msage.matroids.matroid.Matroid._subset_internal (build/cythonized/sage/matroids/matroid.c:7687)\u001b[0;34m()\u001b[0m\n\u001b[1;32m     46\u001b[0m S = frozenset(X)\n\u001b[1;32m     47\u001b[0m if not self.groundset().issuperset(S):\n\u001b[0;32m---> 48\u001b[0m     raise ValueError(f\"{X!r} is not a subset of the groundset\")\n\u001b[1;32m     49\u001b[0m return S\n\u001b[1;32m     50\u001b[0m \n",
      "\u001b[0;31mValueError\u001b[0m: frozenset({1, 5}) is not a subset of the groundset"
     ]
    }
   ],
   "source": [
    "print(chow(M.delete(e)))"
   ]
  }
 ],
 "metadata": {
  "kernelspec": {
   "display_name": "SageMath 10.3",
   "language": "sage",
   "name": "SageMath-10.3"
  },
  "language_info": {
   "codemirror_mode": {
    "name": "ipython",
    "version": 3
   },
   "file_extension": ".py",
   "mimetype": "text/x-python",
   "name": "python",
   "nbconvert_exporter": "python",
   "pygments_lexer": "ipython3",
   "version": "3.11.8"
  }
 },
 "nbformat": 4,
 "nbformat_minor": 5
}
