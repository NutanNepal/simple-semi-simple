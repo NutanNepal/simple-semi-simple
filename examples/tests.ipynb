{
 "cells": [
  {
   "cell_type": "code",
   "execution_count": 1,
   "id": "4f2fff0d",
   "metadata": {
    "vscode": {
     "languageId": "sage"
    }
   },
   "outputs": [],
   "source": [
    "import sys\n",
    "import os\n",
    "# Get the current directory and parent directory\n",
    "current_dir = os.getcwd()\n",
    "parent_dir = os.path.dirname(current_dir)\n",
    "sys.path.insert(0, parent_dir)\n",
    "sys.path.insert(0, current_dir)\n",
    "\n",
    "# Import from the-machine module\n",
    "import importlib.util\n",
    "the_machine_path = os.path.join(parent_dir, \"the-machine\")\n",
    "sys.path.insert(0, the_machine_path)\n",
    "\n",
    "# Import all from the-machine and custom_matroid_functions\n",
    "from HM_module import *\n",
    "from custom_matroid_functions import *"
   ]
  },
  {
   "cell_type": "code",
   "execution_count": 2,
   "id": "b47eb50a",
   "metadata": {
    "vscode": {
     "languageId": "sage"
    }
   },
   "outputs": [
    {
     "name": "stdout",
     "output_type": "stream",
     "text": [
      "frozenset({0, 1, 2, 3, 4, 5})\n",
      "deleting  0\n"
     ]
    }
   ],
   "source": [
    "P = LaurentPolynomialRing(ZZ, 'x')\n",
    "x = P.gen()\n",
    "k, n = 4, 4\n",
    "M = matroids.CompleteGraphic(n)\n",
    "#M = matroids.Uniform(k, n)\n",
    "L = M.lattice_of_flats()\n",
    "r = M.rank()\n",
    "rank_func = lambda x : M.rank(x)\n",
    "\n",
    "#e = next(x for x in M.groundset() if x  not in M.coloops())\n",
    "e = list(M.groundset())[0]\n",
    "print(M.groundset())\n",
    "print(\"deleting \", e)\n",
    "mdele = M.delete(e)\n",
    "Eq_M = create_deformed_algebra(M, base_ring=P)\n",
    "Eq_mdele = create_deformed_algebra(mdele, base_ring=P)\n",
    "E_mdele = Eq_mdele.natural()\n",
    "\n",
    "E = Eq_M.natural()\n",
    "E_basis = E.basis()\n",
    "E_mdele_basis = E_mdele.basis()\n",
    "\n",
    "C = Eq_M.C()\n",
    "C_dele = Eq_mdele.C()\n",
    "C_basis = C.basis()\n",
    "C_dele_basis = C_dele.basis()\n",
    "\n",
    "Z = Eq_M.zeta()\n",
    "Z_dele = Eq_mdele.zeta()\n",
    "Z_basis = Z.basis()\n",
    "\n",
    "flats_keys = list(E_basis.keys())"
   ]
  },
  {
   "cell_type": "code",
   "execution_count": 3,
   "id": "6a3e8fc4",
   "metadata": {
    "vscode": {
     "languageId": "sage"
    }
   },
   "outputs": [
    {
     "name": "stdout",
     "output_type": "stream",
     "text": [
      "rank of M:  3\n",
      "chow polynomial of M:  x^2 + 8*x + 1\n",
      "x^2 - 5*x + 6\n"
     ]
    },
    {
     "data": {
      "text/plain": [
       "-(x+6*x^3)*C[frozenset()] + 2*x^2*C[frozenset({0})] - x*C[frozenset({0, 5})] - x*C[frozenset({0, 1, 3})] + 2*x^2*C[frozenset({4})] - x*C[frozenset({0, 2, 4})] - x*C[frozenset({3, 4, 5})] - x*C[frozenset({1, 4})] + 2*x^2*C[frozenset({5})] + 2*x^2*C[frozenset({1})] - x*C[frozenset({1, 2, 5})] + 2*x^2*C[frozenset({3})] + 2*x^2*C[frozenset({2})] - x*C[frozenset({2, 3})] + C[frozenset({0, 1, 2, 3, 4, 5})]"
      ]
     },
     "execution_count": 3,
     "metadata": {},
     "output_type": "execute_result"
    }
   ],
   "source": [
    "print(\"rank of M: \", r)\n",
    "print(\"chow polynomial of M: \", chow_polynomial(M))\n",
    "print(reduced_characteristic_polynomial(M))\n",
    "C(E(flats_keys[-1]))"
   ]
  },
  {
   "cell_type": "code",
   "execution_count": 4,
   "id": "40759037",
   "metadata": {
    "vscode": {
     "languageId": "sage"
    }
   },
   "outputs": [],
   "source": [
    "rev = {value: key for key, value in E_basis.items()}\n",
    "\n",
    "def delta_flat(F):\n",
    "    F_del_e = frozenset(set(F) - {e})\n",
    "    return Eq_mdele(x^( - M.rank(F) + mdele.rank(F_del_e)) * E_mdele_basis[F_del_e])\n",
    "    \n",
    "def delta(elem):\n",
    "    rep = E(elem)\n",
    "    decom = {monomial: coeff for monomial, coeff in zip(rep.monomials(), rep.coefficients())}\n",
    "    return Eq_mdele(sum(decom[F] * delta_flat(rev[F]) for F in decom))\n",
    "\n",
    "dict = {F : C_dele(delta(C[F])) for F in E_basis.keys()}"
   ]
  },
  {
   "cell_type": "code",
   "execution_count": 5,
   "id": "5bf39aa7",
   "metadata": {
    "vscode": {
     "languageId": "sage"
    }
   },
   "outputs": [],
   "source": [
    "def flat_division(M, e):\n",
    "    L = M.lattice_of_flats()\n",
    "    flat_div = {'S':set(), 'T':set(), 'A':set(), 'B':set()}\n",
    "    for F in L:\n",
    "        if e in F:\n",
    "            if F - {e} in L:\n",
    "                flat_div['T'].add(F)\n",
    "            else:\n",
    "                flat_div['A'].add(F)\n",
    "        else:\n",
    "            if F.union({e}) in L:\n",
    "                flat_div['S'].add(F)\n",
    "            else:\n",
    "                flat_div['B'].add(F)\n",
    "    return flat_div"
   ]
  },
  {
   "cell_type": "code",
   "execution_count": 6,
   "id": "58e7c8f8",
   "metadata": {
    "vscode": {
     "languageId": "sage"
    }
   },
   "outputs": [
    {
     "data": {
      "text/html": [
       "<h3 style=\"color: green;\">Table for Category S (2 flats)</h3>"
      ],
      "text/plain": [
       "<IPython.core.display.HTML object>"
      ]
     },
     "metadata": {},
     "output_type": "display_data"
    },
    {
     "data": {
      "text/html": [
       "<div style=\"height: 300px; overflow-y: auto; border: 2px solid green; padding: 10px;\"><table border=\"1\" class=\"dataframe\">\n",
       "  <thead>\n",
       "    <tr style=\"text-align: right;\">\n",
       "      <th>F</th>\n",
       "      <th>rk(F)</th>\n",
       "      <th>delta(C[F])</th>\n",
       "      <th>coeff of empty</th>\n",
       "      <th>in zeta basis</th>\n",
       "    </tr>\n",
       "  </thead>\n",
       "  <tbody>\n",
       "    <tr>\n",
       "      <td>set()</td>\n",
       "      <td>0</td>\n",
       "      <td>(1)*C[set()]</td>\n",
       "      <td>1</td>\n",
       "      <td>Z[frozenset()]</td>\n",
       "    </tr>\n",
       "    <tr>\n",
       "      <td>{5}</td>\n",
       "      <td>1</td>\n",
       "      <td>(1)*C[{5}]</td>\n",
       "      <td>0</td>\n",
       "      <td>Z[frozenset({5})]</td>\n",
       "    </tr>\n",
       "  </tbody>\n",
       "</table></div>"
      ],
      "text/plain": [
       "<IPython.core.display.HTML object>"
      ]
     },
     "metadata": {},
     "output_type": "display_data"
    },
    {
     "data": {
      "text/html": [
       "<h3 style=\"color: coral;\">Table for Category T (2 flats)</h3>"
      ],
      "text/plain": [
       "<IPython.core.display.HTML object>"
      ]
     },
     "metadata": {},
     "output_type": "display_data"
    },
    {
     "data": {
      "text/html": [
       "<div style=\"height: 300px; overflow-y: auto; border: 2px solid coral; padding: 10px;\"><table border=\"1\" class=\"dataframe\">\n",
       "  <thead>\n",
       "    <tr style=\"text-align: right;\">\n",
       "      <th>F</th>\n",
       "      <th>rk(F)</th>\n",
       "      <th>delta(C[F])</th>\n",
       "      <th>coeff of empty</th>\n",
       "      <th>in zeta basis</th>\n",
       "    </tr>\n",
       "  </thead>\n",
       "  <tbody>\n",
       "    <tr>\n",
       "      <td>{0}</td>\n",
       "      <td>1</td>\n",
       "      <td>(x^-1 + x)*C[set()]</td>\n",
       "      <td>x^-1 + x</td>\n",
       "      <td>(x^-1+x)*Z[frozenset()]</td>\n",
       "    </tr>\n",
       "    <tr>\n",
       "      <td>{0, 5}</td>\n",
       "      <td>2</td>\n",
       "      <td>(x^-1 + x)*C[{5}]</td>\n",
       "      <td>0</td>\n",
       "      <td>(x^-1+x)*Z[frozenset({5})]</td>\n",
       "    </tr>\n",
       "  </tbody>\n",
       "</table></div>"
      ],
      "text/plain": [
       "<IPython.core.display.HTML object>"
      ]
     },
     "metadata": {},
     "output_type": "display_data"
    },
    {
     "data": {
      "text/html": [
       "<h3 style=\"color: blue;\">Table for Category A (3 flats)</h3>"
      ],
      "text/plain": [
       "<IPython.core.display.HTML object>"
      ]
     },
     "metadata": {},
     "output_type": "display_data"
    },
    {
     "data": {
      "text/html": [
       "<div style=\"height: 300px; overflow-y: auto; border: 2px solid blue; padding: 10px;\"><table border=\"1\" class=\"dataframe\">\n",
       "  <thead>\n",
       "    <tr style=\"text-align: right;\">\n",
       "      <th>F</th>\n",
       "      <th>rk(F)</th>\n",
       "      <th>delta(C[F])</th>\n",
       "      <th>coeff of empty</th>\n",
       "      <th>in zeta basis</th>\n",
       "    </tr>\n",
       "  </thead>\n",
       "  <tbody>\n",
       "    <tr>\n",
       "      <td>{0, 2, 4}</td>\n",
       "      <td>2</td>\n",
       "      <td>(1)*C[set()] + (1)*C[{2, 4}]</td>\n",
       "      <td>1</td>\n",
       "      <td>Z[frozenset()] + Z[frozenset({2, 4})]</td>\n",
       "    </tr>\n",
       "    <tr>\n",
       "      <td>{0, 1, 3}</td>\n",
       "      <td>2</td>\n",
       "      <td>(1)*C[set()] + (1)*C[{1, 3}]</td>\n",
       "      <td>1</td>\n",
       "      <td>Z[frozenset()] + Z[frozenset({1, 3})]</td>\n",
       "    </tr>\n",
       "    <tr>\n",
       "      <td>{0, 1, 2, 3, 4, 5}</td>\n",
       "      <td>3</td>\n",
       "      <td>(1)*C[{5}] + (1)*C[{1, 2, 3, 4, 5}]</td>\n",
       "      <td>0</td>\n",
       "      <td>Z[frozenset({5})] + Z[frozenset({1, 2, 3, 4, 5})]</td>\n",
       "    </tr>\n",
       "  </tbody>\n",
       "</table></div>"
      ],
      "text/plain": [
       "<IPython.core.display.HTML object>"
      ]
     },
     "metadata": {},
     "output_type": "display_data"
    },
    {
     "data": {
      "text/html": [
       "<h3 style=\"color: red;\">Table for Category B (8 flats)</h3>"
      ],
      "text/plain": [
       "<IPython.core.display.HTML object>"
      ]
     },
     "metadata": {},
     "output_type": "display_data"
    },
    {
     "data": {
      "text/html": [
       "<div style=\"height: 300px; overflow-y: auto; border: 2px solid red; padding: 10px;\"><table border=\"1\" class=\"dataframe\">\n",
       "  <thead>\n",
       "    <tr style=\"text-align: right;\">\n",
       "      <th>F</th>\n",
       "      <th>rk(F)</th>\n",
       "      <th>delta(C[F])</th>\n",
       "      <th>coeff of empty</th>\n",
       "      <th>in zeta basis</th>\n",
       "    </tr>\n",
       "  </thead>\n",
       "  <tbody>\n",
       "    <tr>\n",
       "      <td>{2}</td>\n",
       "      <td>1</td>\n",
       "      <td>(1)*C[{2}]</td>\n",
       "      <td>0</td>\n",
       "      <td>Z[frozenset({2})]</td>\n",
       "    </tr>\n",
       "    <tr>\n",
       "      <td>{3}</td>\n",
       "      <td>1</td>\n",
       "      <td>(1)*C[{3}]</td>\n",
       "      <td>0</td>\n",
       "      <td>Z[frozenset({3})]</td>\n",
       "    </tr>\n",
       "    <tr>\n",
       "      <td>{2, 3}</td>\n",
       "      <td>2</td>\n",
       "      <td>(1)*C[{2, 3}]</td>\n",
       "      <td>0</td>\n",
       "      <td>Z[frozenset({2, 3})]</td>\n",
       "    </tr>\n",
       "    <tr>\n",
       "      <td>{1}</td>\n",
       "      <td>1</td>\n",
       "      <td>(1)*C[{1}]</td>\n",
       "      <td>0</td>\n",
       "      <td>Z[frozenset({1})]</td>\n",
       "    </tr>\n",
       "    <tr>\n",
       "      <td>{1, 2, 5}</td>\n",
       "      <td>2</td>\n",
       "      <td>(1)*C[{1, 2, 5}]</td>\n",
       "      <td>0</td>\n",
       "      <td>Z[frozenset({1, 2, 5})]</td>\n",
       "    </tr>\n",
       "    <tr>\n",
       "      <td>{4}</td>\n",
       "      <td>1</td>\n",
       "      <td>(1)*C[{4}]</td>\n",
       "      <td>0</td>\n",
       "      <td>Z[frozenset({4})]</td>\n",
       "    </tr>\n",
       "    <tr>\n",
       "      <td>{1, 4}</td>\n",
       "      <td>2</td>\n",
       "      <td>(1)*C[{1, 4}]</td>\n",
       "      <td>0</td>\n",
       "      <td>Z[frozenset({1, 4})]</td>\n",
       "    </tr>\n",
       "    <tr>\n",
       "      <td>{3, 4, 5}</td>\n",
       "      <td>2</td>\n",
       "      <td>(1)*C[{3, 4, 5}]</td>\n",
       "      <td>0</td>\n",
       "      <td>Z[frozenset({3, 4, 5})]</td>\n",
       "    </tr>\n",
       "  </tbody>\n",
       "</table></div>"
      ],
      "text/plain": [
       "<IPython.core.display.HTML object>"
      ]
     },
     "metadata": {},
     "output_type": "display_data"
    }
   ],
   "source": [
    "from IPython.display import HTML, display\n",
    "import pandas as pd\n",
    "\n",
    "# Get the flat division\n",
    "flat_div = flat_division(M, e)\n",
    "\n",
    "# Create separate data lists for each category\n",
    "data_s = []\n",
    "data_t = []\n",
    "data_a = []\n",
    "data_b = []\n",
    "\n",
    "basis_list_mdele = list(mdele.lattice_of_flats())\n",
    "\n",
    "for F in dict:\n",
    "    elem = dict[F]\n",
    "    coeff_empty = elem.monomial_coefficients().get(frozenset(), 0)\n",
    "    \n",
    "    terms = []\n",
    "    for S, coeff in elem.monomial_coefficients().items():\n",
    "        terms.append(f\"({coeff})*C[{str(set(S))}]\")\n",
    "    formatted_expr = \" + \".join(terms) if terms else \"0\"\n",
    "    \n",
    "    row_data = {\n",
    "        'F': str(set(F)),\n",
    "        'rk(F)': M.rank(F),\n",
    "        'delta(C[F])': formatted_expr,\n",
    "        'coeff of empty': coeff_empty,\n",
    "        'in zeta basis': str(Z_dele(elem))\n",
    "    }\n",
    "    \n",
    "    # Categorize the flat and add to appropriate list\n",
    "    if F in flat_div['S']:\n",
    "        data_s.append(row_data)\n",
    "    elif F in flat_div['T']:\n",
    "        data_t.append(row_data)\n",
    "    elif F in flat_div['A']:\n",
    "        data_a.append(row_data)\n",
    "    elif F in flat_div['B']:\n",
    "        data_b.append(row_data)\n",
    "\n",
    "# Create and display tables for each category\n",
    "def display_table(data, category_name, color='lightblue'):\n",
    "    if data:\n",
    "        df = pd.DataFrame(data)\n",
    "        display(HTML(f'<h3 style=\"color: {color};\">Table for Category {category_name} ({len(data)} flats)</h3>'))\n",
    "        display(HTML(\n",
    "            f'<div style=\"height: 300px; overflow-y: auto; border: 2px solid {color}; padding: 10px;\">{df.to_html(index=False)}</div>'\n",
    "        ))\n",
    "    else:\n",
    "        display(HTML(f'<h3 style=\"color: {color};\">Table for Category {category_name} (0 flats)</h3>'))\n",
    "        display(HTML('<p>No flats in this category.</p>'))\n",
    "\n",
    "# Display all four tables\n",
    "display_table(data_s, 'S', 'green')\n",
    "display_table(data_t, 'T', 'coral') \n",
    "display_table(data_a, 'A', 'blue')\n",
    "display_table(data_b, 'B', 'red')"
   ]
  },
  {
   "cell_type": "code",
   "execution_count": 7,
   "id": "5b9e51d0",
   "metadata": {
    "vscode": {
     "languageId": "sage"
    }
   },
   "outputs": [
    {
     "name": "stdout",
     "output_type": "stream",
     "text": [
      "frozenset({0, 1, 2, 3, 4, 5})\n"
     ]
    },
    {
     "data": {
      "text/plain": [
       "C[frozenset({5})]"
      ]
     },
     "execution_count": 7,
     "metadata": {},
     "output_type": "execute_result"
    }
   ],
   "source": [
    "#\\Delta(C[F]) - C[F\\e] = \n",
    "def delta_diff(F):\n",
    "    return delta(C(F)) -C_dele(F - {e})\n",
    "\n",
    "print(E_basis.keys()[-1])\n",
    "C_dele(delta_diff(E_basis.keys()[-1]))\n"
   ]
  }
 ],
 "metadata": {
  "kernelspec": {
   "display_name": "SageMath 10.3",
   "language": "sage",
   "name": "SageMath-10.3"
  },
  "language_info": {
   "codemirror_mode": {
    "name": "ipython",
    "version": 3
   },
   "file_extension": ".py",
   "mimetype": "text/x-python",
   "name": "python",
   "nbconvert_exporter": "python",
   "pygments_lexer": "ipython3",
   "version": "3.11.8"
  }
 },
 "nbformat": 4,
 "nbformat_minor": 5
}
