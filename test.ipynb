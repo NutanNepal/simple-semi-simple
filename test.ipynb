{
 "cells": [
  {
   "cell_type": "code",
   "execution_count": 24,
   "id": "73234612",
   "metadata": {},
   "outputs": [
    {
     "data": {
      "text/plain": [
       "x^3 - 9*x^2 + 26*x - 24"
      ]
     },
     "execution_count": 24,
     "metadata": {},
     "output_type": "execute_result"
    }
   ],
   "source": [
    "import sys\n",
    "sys.path.insert(0, '.')\n",
    "sys.path.insert(0, 'the-machine')\n",
    "\n",
    "from HM_module import *\n",
    "from custom_matroid_functions import *\n",
    "\n",
    "P = LaurentPolynomialRing(QQ, 'x')\n",
    "x = P.gen()\n",
    "k, n = 3,5\n",
    "\n",
    "M = matroids.CompleteGraphic(n)\n",
    "\n",
    "p = reduced_characteristic_polynomial(M)\n",
    "p\n"
   ]
  },
  {
   "cell_type": "code",
   "execution_count": 25,
   "id": "2f3321af",
   "metadata": {},
   "outputs": [
    {
     "data": {
      "text/plain": [
       "x^3 - 8*x^2 + 21*x - 18"
      ]
     },
     "execution_count": 25,
     "metadata": {},
     "output_type": "execute_result"
    }
   ],
   "source": [
    "reduced_characteristic_polynomial(M.delete(0))"
   ]
  },
  {
   "cell_type": "code",
   "execution_count": 26,
   "id": "4defe5be",
   "metadata": {},
   "outputs": [
    {
     "data": {
      "text/plain": [
       "x^3 - 7*x^2 + 16*x - 12"
      ]
     },
     "execution_count": 26,
     "metadata": {},
     "output_type": "execute_result"
    }
   ],
   "source": [
    "reduced_characteristic_polynomial(M.delete(0).delete(1))"
   ]
  },
  {
   "cell_type": "code",
   "execution_count": 27,
   "id": "0b68e01a",
   "metadata": {},
   "outputs": [
    {
     "data": {
      "text/plain": [
       "x^3 - 6*x^2 + 11*x - 6"
      ]
     },
     "execution_count": 27,
     "metadata": {},
     "output_type": "execute_result"
    }
   ],
   "source": [
    "reduced_characteristic_polynomial(M.delete(0).delete(1).delete(2))"
   ]
  },
  {
   "cell_type": "code",
   "execution_count": 28,
   "id": "74360c03",
   "metadata": {},
   "outputs": [
    {
     "data": {
      "text/plain": [
       "x^2 - 5*x + 6"
      ]
     },
     "execution_count": 28,
     "metadata": {},
     "output_type": "execute_result"
    }
   ],
   "source": [
    "reduced_characteristic_polynomial(M.delete(0).delete(1).delete(2).delete(3))"
   ]
  }
 ],
 "metadata": {
  "kernelspec": {
   "display_name": "SageMath 10.3",
   "language": "sage",
   "name": "SageMath-10.3"
  },
  "language_info": {
   "codemirror_mode": {
    "name": "ipython",
    "version": 3
   },
   "file_extension": ".py",
   "mimetype": "text/x-python",
   "name": "sage",
   "nbconvert_exporter": "python",
   "pygments_lexer": "ipython3",
   "version": "3.11.8"
  }
 },
 "nbformat": 4,
 "nbformat_minor": 5
}
