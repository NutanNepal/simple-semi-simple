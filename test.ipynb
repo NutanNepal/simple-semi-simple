{
 "cells": [
  {
   "cell_type": "code",
   "execution_count": 7,
   "id": "73234612",
   "metadata": {
    "vscode": {
     "languageId": "sage"
    }
   },
   "outputs": [
    {
     "data": {
      "text/plain": [
       "x^-1 - 2*x + x^3"
      ]
     },
     "execution_count": 7,
     "metadata": {},
     "output_type": "execute_result"
    }
   ],
   "source": [
    "import sys\n",
    "sys.path.insert(0, '/home/nnutannep/Github/simple-semi-simple')\n",
    "sys.path.insert(0, '/home/nnutannep/Github/simple-semi-simple/the-machine')\n",
    "\n",
    "from HM_module import *\n",
    "from custom_matroid_functions import *\n",
    "\n",
    "P = LaurentPolynomialRing(QQ, 'x')\n",
    "x = P.gen()\n",
    "k, n = 3,3\n",
    "\n",
    "M = matroids.Uniform(k, n)\n",
    "\n",
    "p = reduced_characteristic_polynomial(M)\n",
    "p(x^-2)*x^(p.degree()+1)\n"
   ]
  }
 ],
 "metadata": {
  "kernelspec": {
   "display_name": "SageMath 10.3",
   "language": "sage",
   "name": "sagemath"
  },
  "language_info": {
   "codemirror_mode": {
    "name": "ipython",
    "version": 3
   },
   "file_extension": ".py",
   "mimetype": "text/x-python",
   "name": "python",
   "nbconvert_exporter": "python",
   "pygments_lexer": "ipython3",
   "version": "3.11.9"
  }
 },
 "nbformat": 4,
 "nbformat_minor": 5
}
