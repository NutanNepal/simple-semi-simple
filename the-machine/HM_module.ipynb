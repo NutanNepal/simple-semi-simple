{
 "cells": [
  {
   "cell_type": "code",
   "execution_count": 9,
   "metadata": {
    "vscode": {
     "languageId": "sage"
    }
   },
   "outputs": [],
   "source": [
    "import sys\n",
    "sys.path.insert(0, '/home/nnutannep/Github/simple-semi-simple')\n",
    "sys.path.insert(0, '/home/nnutannep/Github/simple-semi-simple/the-machine')\n",
    "\n",
    "from HM_module import *\n",
    "from custom_matroid_functions import *"
   ]
  },
  {
   "cell_type": "code",
   "execution_count": 10,
   "metadata": {
    "vscode": {
     "languageId": "sage"
    }
   },
   "outputs": [
    {
     "name": "stdout",
     "output_type": "stream",
     "text": [
      "frozenset({0, 1, 2})\n",
      "deleting  0\n"
     ]
    }
   ],
   "source": [
    "P = LaurentPolynomialRing(ZZ, 'x')\n",
    "x = P.gen() \n",
    "k, n = 4, 3\n",
    "M = matroids.CompleteGraphic(n)\n",
    "r = M.rank()\n",
    "rank_func = lambda x : M.rank(x)\n",
    "\n",
    "e = next(x for x in M.groundset() if x  not in M.coloops())\n",
    "\n",
    "print(M.groundset())\n",
    "print(\"deleting \", e)\n",
    "mdele = M.delete(e)\n",
    "L = M.lattice_of_flats()\n",
    "Ldel_e = mdele.lattice_of_flats()\n",
    "Eq_M = create_deformed_algebra(M, base_ring=P)\n",
    "Eq_mdele = create_deformed_algebra(mdele, base_ring=P)\n",
    "E_mdele = Eq_mdele.natural()\n",
    "E_mdele_basis = E_mdele.basis()"
   ]
  },
  {
   "cell_type": "code",
   "execution_count": 11,
   "metadata": {
    "vscode": {
     "languageId": "sage"
    }
   },
   "outputs": [
    {
     "name": "stdout",
     "output_type": "stream",
     "text": [
      "Finite family {frozenset(): E[frozenset()], frozenset({2}): E[frozenset({2})], frozenset({1}): E[frozenset({1})], frozenset({0}): E[frozenset({0})], frozenset({0, 1, 2}): E[frozenset({0, 1, 2})]}\n",
      "Finite family {frozenset(): C[frozenset()], frozenset({2}): C[frozenset({2})], frozenset({1}): C[frozenset({1})], frozenset({0}): C[frozenset({0})], frozenset({0, 1, 2}): C[frozenset({0, 1, 2})]}\n",
      "Finite family {frozenset(): Z[frozenset()], frozenset({2}): Z[frozenset({2})], frozenset({1}): Z[frozenset({1})], frozenset({0}): Z[frozenset({0})], frozenset({0, 1, 2}): Z[frozenset({0, 1, 2})]}\n"
     ]
    }
   ],
   "source": [
    "E = Eq_M.natural()\n",
    "E_basis = E.basis()\n",
    "\n",
    "print(E_basis)\n",
    "\n",
    "C = Eq_M.C()\n",
    "C_dele = Eq_mdele.C()\n",
    "C_basis = C.basis()\n",
    "\n",
    "print(C_basis)\n",
    "\n",
    "Z = Eq_M.zeta()\n",
    "Z_basis = Z.basis()\n",
    "\n",
    "print(Z_basis)"
   ]
  },
  {
   "cell_type": "code",
   "execution_count": 12,
   "metadata": {
    "vscode": {
     "languageId": "sage"
    }
   },
   "outputs": [
    {
     "data": {
      "text/plain": [
       "x + 1"
      ]
     },
     "execution_count": 12,
     "metadata": {},
     "output_type": "execute_result"
    }
   ],
   "source": [
    "chow_polynomial(M)"
   ]
  },
  {
   "cell_type": "code",
   "execution_count": 13,
   "metadata": {
    "vscode": {
     "languageId": "sage"
    }
   },
   "outputs": [
    {
     "name": "stdout",
     "output_type": "stream",
     "text": [
      "{frozenset(): x^4 + 4*x^5 + x^6, frozenset({2}): x^2 + x^3, frozenset({1}): x^2 + x^3, frozenset({0}): x^2 + x^3, frozenset({0, 1, 2}): 1}\n",
      "Palindromic check failed for F=frozenset()\n",
      "Sum = x^-2 + 3*x + 3*x^2 + x^4 + 4*x^5 + x^6\n",
      "Sum(1/t) = x^-6 + 4*x^-5 + x^-4 + 3*x^-2 + 3*x^-1 + x^2\n"
     ]
    },
    {
     "data": {
      "text/plain": [
       "False"
      ]
     },
     "execution_count": 13,
     "metadata": {},
     "output_type": "execute_result"
    }
   ],
   "source": [
    "Eq_M.is_in_Hp(C[E_basis.keys()[-1]])"
   ]
  },
  {
   "cell_type": "code",
   "execution_count": 14,
   "metadata": {
    "vscode": {
     "languageId": "sage"
    }
   },
   "outputs": [
    {
     "name": "stdout",
     "output_type": "stream",
     "text": [
      "{frozenset(): x^2, frozenset({2}): x, frozenset({1}): x, frozenset({0}): x, frozenset({0, 1, 2}): 1}\n"
     ]
    },
    {
     "data": {
      "text/plain": [
       "True"
      ]
     },
     "execution_count": 14,
     "metadata": {},
     "output_type": "execute_result"
    }
   ],
   "source": [
    "Eq_M.is_in_Hp(Z[E_basis.keys()[-1]])"
   ]
  },
  {
   "cell_type": "code",
   "execution_count": 15,
   "metadata": {
    "vscode": {
     "languageId": "sage"
    }
   },
   "outputs": [],
   "source": [
    "def delta_flat(F):\n",
    "    F_del_e = frozenset(set(F) - {e})\n",
    "    assert F_del_e in Ldel_e\n",
    "    return Eq_mdele(x^( - M.rank(F) + mdele.rank(F_del_e)) * E_mdele_basis[F_del_e])\n",
    "    \n",
    "def delta(elem):\n",
    "    rep = E(elem)\n",
    "    rev = {value: key for key, value in E_basis.items()}\n",
    "    decom = {monomial: coeff for monomial, coeff in zip(rep.monomials(), rep.coefficients())}\n",
    "    return Eq_mdele(sum(decom[F] * delta_flat(rev[F]) for F in decom))\n",
    "\n",
    "def sum_coeffs(elem):\n",
    "    return sum(elem.coefficients())\n",
    "\n",
    "dict = {F : C_dele(delta(C[F])) for F in E_basis.keys()}\n",
    "\n",
    "from IPython.display import HTML, display\n",
    "\n",
    "data = []\n",
    "basis_list_mdele = list(Ldel_e)\n",
    "\n",
    "for F in dict:\n",
    "    elem = dict[F]\n",
    "    coeff_empty = elem.monomial_coefficients().get(frozenset(), 0)\n",
    "    \n",
    "    # Format delta(zeta(F)) with x_i notation\n",
    "    terms = []\n",
    "    for S, coeff in elem.monomial_coefficients().items():\n",
    "        terms.append(f\"({coeff})*C[{str(set(S))}]\")\n",
    "    formatted_expr = \" + \".join(terms) if terms else \"0\"\n",
    "    if 1:\n",
    "        data.append({\n",
    "            'F': str(F),\n",
    "            'in kl': E(C[F]).monomial_coefficients(),\n",
    "            'delta(zeta(F))': formatted_expr,\n",
    "            'coeff of empty': coeff_empty,\n",
    "            'in natural basis': E_mdele(elem).monomial_coefficients()\n",
    "        })"
   ]
  },
  {
   "cell_type": "code",
   "execution_count": 16,
   "metadata": {
    "vscode": {
     "languageId": "sage"
    }
   },
   "outputs": [
    {
     "data": {
      "text/html": [
       "<div style=\"height: 400px; overflow-y: auto;\"><table border=\"1\" class=\"dataframe\">\n",
       "  <thead>\n",
       "    <tr style=\"text-align: right;\">\n",
       "      <th>F</th>\n",
       "      <th>in kl</th>\n",
       "      <th>delta(zeta(F))</th>\n",
       "      <th>coeff of empty</th>\n",
       "      <th>in natural basis</th>\n",
       "    </tr>\n",
       "  </thead>\n",
       "  <tbody>\n",
       "    <tr>\n",
       "      <td>frozenset()</td>\n",
       "      <td>{(): 1}</td>\n",
       "      <td>(1)*C[set()]</td>\n",
       "      <td>1</td>\n",
       "      <td>{(): 1}</td>\n",
       "    </tr>\n",
       "    <tr>\n",
       "      <td>frozenset({2})</td>\n",
       "      <td>{(): x^2, (2): 1}</td>\n",
       "      <td>(1)*C[{2}]</td>\n",
       "      <td>0</td>\n",
       "      <td>{(): x^2, (2): 1}</td>\n",
       "    </tr>\n",
       "    <tr>\n",
       "      <td>frozenset({1})</td>\n",
       "      <td>{(): x^2, (1): 1}</td>\n",
       "      <td>(1)*C[{1}]</td>\n",
       "      <td>0</td>\n",
       "      <td>{(): x^2, (1): 1}</td>\n",
       "    </tr>\n",
       "    <tr>\n",
       "      <td>frozenset({0})</td>\n",
       "      <td>{(): x^2, (0): 1}</td>\n",
       "      <td>(x^-1 + x^2)*C[set()]</td>\n",
       "      <td>x^-1 + x^2</td>\n",
       "      <td>{(): x^-1 + x^2}</td>\n",
       "    </tr>\n",
       "    <tr>\n",
       "      <td>frozenset({0, 1, 2})</td>\n",
       "      <td>{(): x^4 + 4*x^5 + x^6, (2): x^2 + x^3, (1): x^2 + x^3, (0): x^2 + x^3, (0, 1, 2): 1}</td>\n",
       "      <td>(x + x^2 + x^5 + x^6)*C[set()] + (x^3)*C[{2}] + (x^3)*C[{1}] + (1)*C[{1, 2}]</td>\n",
       "      <td>x + x^2 + x^5 + x^6</td>\n",
       "      <td>{(): x + x^2 + x^4 + 4*x^5 + x^6, (2): x^2 + x^3, (1): x^2 + x^3, (1, 2): 1}</td>\n",
       "    </tr>\n",
       "  </tbody>\n",
       "</table></div>"
      ],
      "text/plain": [
       "<IPython.core.display.HTML object>"
      ]
     },
     "metadata": {},
     "output_type": "display_data"
    }
   ],
   "source": [
    "import pandas as pd\n",
    "df = pd.DataFrame(data)\n",
    "display(HTML(\n",
    "    f'<div style=\"height: 400px; overflow-y: auto;\">{df.to_html(index=False)}</div>'\n",
    "))"
   ]
  }
 ],
 "metadata": {
  "kernelspec": {
   "display_name": "SageMath 10.3",
   "language": "sage",
   "name": "sagemath"
  },
  "language_info": {
   "codemirror_mode": {
    "name": "ipython",
    "version": 3
   },
   "file_extension": ".py",
   "mimetype": "text/x-python",
   "name": "python",
   "nbconvert_exporter": "python",
   "pygments_lexer": "ipython3",
   "version": "3.11.9"
  }
 },
 "nbformat": 4,
 "nbformat_minor": 2
}
