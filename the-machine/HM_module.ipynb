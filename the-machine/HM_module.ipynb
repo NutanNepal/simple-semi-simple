{
 "cells": [
  {
   "cell_type": "code",
   "execution_count": 14,
   "metadata": {
    "vscode": {
     "languageId": "sage"
    }
   },
   "outputs": [],
   "source": [
    "import sys\n",
    "import os\n",
    "# Get the current directory and parent directory\n",
    "current_dir = os.getcwd()\n",
    "parent_dir = os.path.dirname(current_dir)\n",
    "sys.path.insert(0, parent_dir)\n",
    "sys.path.insert(0, current_dir)\n",
    "\n",
    "from HM_module import *\n",
    "from custom_matroid_functions import *"
   ]
  },
  {
   "cell_type": "code",
   "execution_count": 15,
   "metadata": {
    "vscode": {
     "languageId": "sage"
    }
   },
   "outputs": [
    {
     "name": "stdout",
     "output_type": "stream",
     "text": [
      "frozenset({0, 1, 2, 3, 4})\n",
      "deleting  0\n"
     ]
    }
   ],
   "source": [
    "P = LaurentPolynomialRing(ZZ, 'x')\n",
    "x = P.gen() \n",
    "k, n = 4,5\n",
    "#M = matroids.CompleteGraphic(n)\n",
    "M = matroids.Uniform(k, n)\n",
    "r = M.rank()\n",
    "rank_func = lambda x : M.rank(x)\n",
    "\n",
    "#e = next(x for x in M.groundset() if x  not in M.coloops())\n",
    "e = list(M.groundset())[0]\n",
    "print(M.groundset())\n",
    "print(\"deleting \", e)\n",
    "mdele = M.delete(e)\n",
    "L = M.lattice_of_flats()\n",
    "Ldel_e = mdele.lattice_of_flats()\n",
    "Eq_M = create_deformed_algebra(M, base_ring=P)\n",
    "Eq_mdele = create_deformed_algebra(mdele, base_ring=P)\n",
    "E_mdele = Eq_mdele.natural()"
   ]
  },
  {
   "cell_type": "code",
   "execution_count": 16,
   "metadata": {
    "vscode": {
     "languageId": "sage"
    }
   },
   "outputs": [],
   "source": [
    "E = Eq_M.natural()\n",
    "E_basis = E.basis()\n",
    "E_mdele_basis = E_mdele.basis()\n",
    "\n",
    "C = Eq_M.C()\n",
    "C_dele = Eq_mdele.C()\n",
    "C_basis = C.basis()\n",
    "C_dele_basis = C_dele.basis()\n",
    "\n",
    "Z = Eq_M.zeta()\n",
    "Z_dele = Eq_mdele.zeta()\n",
    "Z_basis = Z.basis()\n",
    "\n",
    "flats_keys = list(E_basis.keys())"
   ]
  },
  {
   "cell_type": "code",
   "execution_count": 17,
   "metadata": {
    "vscode": {
     "languageId": "sage"
    }
   },
   "outputs": [
    {
     "name": "stdout",
     "output_type": "stream",
     "text": [
      "rank of M:  4\n",
      "chow polynomial of M:  x^3 + 21*x^2 + 21*x + 1\n"
     ]
    }
   ],
   "source": [
    "print(\"rank of M: \", r)\n",
    "print(\"chow polynomial of M: \", chow_polynomial(M))"
   ]
  },
  {
   "cell_type": "code",
   "execution_count": 18,
   "metadata": {
    "vscode": {
     "languageId": "sage"
    }
   },
   "outputs": [
    {
     "data": {
      "text/plain": [
       "(x^-2+21+21*x^2+x^4)*E[frozenset()] + (x^-1+7*x+x^3)*E[frozenset({1})] + (x^-1+7*x+x^3)*E[frozenset({4})] + (1+x^2)*E[frozenset({1, 4})] + (x^-1+7*x+x^3)*E[frozenset({2})] + (1+x^2)*E[frozenset({1, 2})] + (1+x^2)*E[frozenset({2, 4})] + x*E[frozenset({1, 2, 4})] + (x^-1+7*x+x^3)*E[frozenset({3})] + (1+x^2)*E[frozenset({1, 3})] + (1+x^2)*E[frozenset({2, 3})] + x*E[frozenset({1, 2, 3})] + (1+x^2)*E[frozenset({3, 4})] + x*E[frozenset({1, 3, 4})] + x*E[frozenset({2, 3, 4})] + (x^-1+7*x+x^3)*E[frozenset({0})] + (1+x^2)*E[frozenset({0, 3})] + (1+x^2)*E[frozenset({0, 1})] + x*E[frozenset({0, 1, 3})] + (1+x^2)*E[frozenset({0, 2})] + x*E[frozenset({0, 1, 2})] + x*E[frozenset({0, 2, 3})] + (1+x^2)*E[frozenset({0, 4})] + x*E[frozenset({0, 1, 4})] + x*E[frozenset({0, 2, 4})] + x*E[frozenset({0, 3, 4})] + E[frozenset({0, 1, 2, 3, 4})]"
      ]
     },
     "execution_count": 18,
     "metadata": {},
     "output_type": "execute_result"
    }
   ],
   "source": [
    "E(C_basis[flats_keys[-1]])"
   ]
  },
  {
   "cell_type": "code",
   "execution_count": 19,
   "metadata": {
    "vscode": {
     "languageId": "sage"
    }
   },
   "outputs": [
    {
     "name": "stdout",
     "output_type": "stream",
     "text": [
      "-(x^-2-4+6*x^2-4*x^4)*C[frozenset()] - (x^-1-3*x+3*x^3)*C[frozenset({0})] - (1-2*x^2)*C[frozenset({0, 4})] - x*C[frozenset({0, 3, 4})] - x*C[frozenset({0, 2, 4})] - x*C[frozenset({0, 1, 4})] - (1-2*x^2)*C[frozenset({0, 2})] - (1-2*x^2)*C[frozenset({0, 3})] - x*C[frozenset({0, 2, 3})] - (1-2*x^2)*C[frozenset({0, 1})] - x*C[frozenset({0, 1, 2})] - (x^-1-3*x+3*x^3)*C[frozenset({3})] - x*C[frozenset({0, 1, 3})] - (x^-1-3*x+3*x^3)*C[frozenset({4})] - (1-2*x^2)*C[frozenset({3, 4})] - (x^-1-3*x+3*x^3)*C[frozenset({2})] - (1-2*x^2)*C[frozenset({2, 3})] - x*C[frozenset({2, 3, 4})] - (x^-1-3*x+3*x^3)*C[frozenset({1})] - (1-2*x^2)*C[frozenset({1, 3})] - (1-2*x^2)*C[frozenset({1, 4})] - x*C[frozenset({1, 3, 4})] - x*C[frozenset({1, 2, 3})] - (1-2*x^2)*C[frozenset({2, 4})] - (1-2*x^2)*C[frozenset({1, 2})] - x*C[frozenset({1, 2, 4})] + C[frozenset({0, 1, 2, 3, 4})]\n",
      "(x^-2+21+21*x^2+x^4)*E[frozenset()] + (x^-1+7*x+x^3)*E[frozenset({1})] + (x^-1+7*x+x^3)*E[frozenset({4})] + (1+x^2)*E[frozenset({1, 4})] + (x^-1+7*x+x^3)*E[frozenset({2})] + (1+x^2)*E[frozenset({1, 2})] + (1+x^2)*E[frozenset({2, 4})] + x*E[frozenset({1, 2, 4})] + (x^-1+7*x+x^3)*E[frozenset({3})] + (1+x^2)*E[frozenset({1, 3})] + (1+x^2)*E[frozenset({2, 3})] + x*E[frozenset({1, 2, 3})] + (1+x^2)*E[frozenset({3, 4})] + x*E[frozenset({1, 3, 4})] + x*E[frozenset({2, 3, 4})] + (x^-1+7*x+x^3)*E[frozenset({0})] + (1+x^2)*E[frozenset({0, 3})] + (1+x^2)*E[frozenset({0, 1})] + x*E[frozenset({0, 1, 3})] + (1+x^2)*E[frozenset({0, 2})] + x*E[frozenset({0, 1, 2})] + x*E[frozenset({0, 2, 3})] + (1+x^2)*E[frozenset({0, 4})] + x*E[frozenset({0, 1, 4})] + x*E[frozenset({0, 2, 4})] + x*E[frozenset({0, 3, 4})] + E[frozenset({0, 1, 2, 3, 4})]\n"
     ]
    },
    {
     "data": {
      "text/plain": [
       "True"
      ]
     },
     "execution_count": 19,
     "metadata": {},
     "output_type": "execute_result"
    }
   ],
   "source": [
    "print(C(E_basis[flats_keys[-1]]))\n",
    "print(E(C[flats_keys[-1]]))\n",
    "Eq_M.is_in_Hp(C[flats_keys[-1]])"
   ]
  },
  {
   "cell_type": "code",
   "execution_count": 20,
   "metadata": {
    "vscode": {
     "languageId": "sage"
    }
   },
   "outputs": [
    {
     "name": "stdout",
     "output_type": "stream",
     "text": [
      "{frozenset(): C[frozenset()], frozenset({1}): C[frozenset({1})], frozenset({4}): C[frozenset({4})], frozenset({1, 4}): C[frozenset({1, 4})], frozenset({2}): C[frozenset({2})], frozenset({1, 2}): C[frozenset({1, 2})], frozenset({2, 4}): C[frozenset({2, 4})], frozenset({1, 2, 4}): C[frozenset({1, 2, 4})], frozenset({3}): C[frozenset({3})], frozenset({1, 3}): C[frozenset({1, 3})], frozenset({2, 3}): C[frozenset({2, 3})], frozenset({1, 2, 3}): C[frozenset({1, 2, 3})], frozenset({3, 4}): C[frozenset({3, 4})], frozenset({1, 3, 4}): C[frozenset({1, 3, 4})], frozenset({2, 3, 4}): C[frozenset({2, 3, 4})], frozenset({0}): (x^-1+x)*C[frozenset()], frozenset({0, 3}): C[frozenset()] + (x^-1+x)*C[frozenset({3})], frozenset({0, 1}): C[frozenset()] + (x^-1+x)*C[frozenset({1})], frozenset({0, 1, 3}): (x^-1+x)*C[frozenset()] + C[frozenset({1})] + C[frozenset({3})] + (x^-1+x)*C[frozenset({1, 3})], frozenset({0, 2}): C[frozenset()] + (x^-1+x)*C[frozenset({2})], frozenset({0, 1, 2}): (x^-1+x)*C[frozenset()] + C[frozenset({1})] + C[frozenset({2})] + (x^-1+x)*C[frozenset({1, 2})], frozenset({0, 2, 3}): (x^-1+x)*C[frozenset()] + C[frozenset({2})] + C[frozenset({3})] + (x^-1+x)*C[frozenset({2, 3})], frozenset({0, 4}): C[frozenset()] + (x^-1+x)*C[frozenset({4})], frozenset({0, 1, 4}): (x^-1+x)*C[frozenset()] + C[frozenset({1})] + C[frozenset({4})] + (x^-1+x)*C[frozenset({1, 4})], frozenset({0, 2, 4}): (x^-1+x)*C[frozenset()] + C[frozenset({4})] + C[frozenset({2})] + (x^-1+x)*C[frozenset({2, 4})], frozenset({0, 3, 4}): (x^-1+x)*C[frozenset()] + C[frozenset({4})] + C[frozenset({3})] + (x^-1+x)*C[frozenset({3, 4})], frozenset({0, 1, 2, 3, 4}): (x^-2+7+x^2)*C[frozenset()] + (x^-1+x)*C[frozenset({1})] + (x^-1+x)*C[frozenset({4})] + C[frozenset({1, 4})] + (x^-1+x)*C[frozenset({2})] + C[frozenset({1, 2})] + C[frozenset({2, 4})] + (x^-1+x)*C[frozenset({3})] + C[frozenset({1, 3})] + C[frozenset({2, 3})] + C[frozenset({3, 4})] + C[frozenset({1, 2, 3, 4})]}\n",
      "True\n",
      "(x^-2+7+x^2)*C[frozenset()] + (x^-1+x)*C[frozenset({1})] + (x^-1+x)*C[frozenset({4})] + C[frozenset({1, 4})] + (x^-1+x)*C[frozenset({2})] + C[frozenset({1, 2})] + C[frozenset({2, 4})] + (x^-1+x)*C[frozenset({3})] + C[frozenset({1, 3})] + C[frozenset({2, 3})] + C[frozenset({3, 4})] + C[frozenset({1, 2, 3, 4})]\n",
      "(2*x^-2+20+2*x^2)*Z[frozenset()] + (2*x^-1+2*x)*Z[frozenset({1})] + (2*x^-1+2*x)*Z[frozenset({4})] + 2*Z[frozenset({1, 4})] + (2*x^-1+2*x)*Z[frozenset({2})] + 2*Z[frozenset({1, 2})] + 2*Z[frozenset({2, 4})] + (2*x^-1+2*x)*Z[frozenset({3})] + 2*Z[frozenset({1, 3})] + 2*Z[frozenset({2, 3})] + 2*Z[frozenset({3, 4})] + Z[frozenset({1, 2, 3, 4})]\n"
     ]
    }
   ],
   "source": [
    "rev = {value: key for key, value in E_basis.items()}\n",
    "\n",
    "def delta_flat(F):\n",
    "    F_del_e = frozenset(set(F) - {e})\n",
    "    assert F_del_e in Ldel_e\n",
    "    return Eq_mdele(x^( - M.rank(F) + mdele.rank(F_del_e)) * E_mdele_basis[F_del_e])\n",
    "    \n",
    "def delta(elem):\n",
    "    rep = E(elem)\n",
    "    decom = {monomial: coeff for monomial, coeff in zip(rep.monomials(), rep.coefficients())}\n",
    "    return Eq_mdele(sum(decom[F] * delta_flat(rev[F]) for F in decom))\n",
    "\n",
    "dict = {F : C_dele(delta(C[F])) for F in E_basis.keys()}\n",
    "print(dict)\n",
    "\n",
    "from IPython.display import HTML, display\n",
    "\n",
    "data = []\n",
    "basis_list_mdele = list(Ldel_e)\n",
    "\n",
    "for F in dict:\n",
    "    elem = dict[F]\n",
    "    coeff_empty = elem.monomial_coefficients().get(frozenset(), 0)\n",
    "    \n",
    "    # Format delta(zeta(F)) with x_i notation\n",
    "    terms = []\n",
    "    for S, coeff in elem.monomial_coefficients().items():\n",
    "        terms.append(f\"({coeff})*C[{str(set(S))}]\")\n",
    "    formatted_expr = \" + \".join(terms) if terms else \"0\"\n",
    "    if 1:\n",
    "        data.append({\n",
    "            'F': str(F),\n",
    "            'in std basis': E(C[F]).monomial_coefficients(),\n",
    "            'delta(C(F))': formatted_expr,\n",
    "            'coeff of empty': coeff_empty,\n",
    "            'in natural basis': E_mdele(elem).monomial_coefficients()\n",
    "        })\n",
    "\n",
    "print(Eq_mdele.is_in_Hp(dict[M.groundset()]))\n",
    "print(C_dele(dict[M.groundset()]))\n",
    "\n",
    "print(Z_dele(dict[M.groundset()]))"
   ]
  },
  {
   "cell_type": "code",
   "execution_count": 21,
   "metadata": {
    "vscode": {
     "languageId": "sage"
    }
   },
   "outputs": [
    {
     "data": {
      "text/html": [
       "<div style=\"height: 400px; overflow-y: auto;\"><table border=\"1\" class=\"dataframe\">\n",
       "  <thead>\n",
       "    <tr style=\"text-align: right;\">\n",
       "      <th>F</th>\n",
       "      <th>in std basis</th>\n",
       "      <th>delta(C(F))</th>\n",
       "      <th>coeff of empty</th>\n",
       "      <th>in natural basis</th>\n",
       "    </tr>\n",
       "  </thead>\n",
       "  <tbody>\n",
       "    <tr>\n",
       "      <td>frozenset()</td>\n",
       "      <td>{(): 1}</td>\n",
       "      <td>(1)*C[set()]</td>\n",
       "      <td>1</td>\n",
       "      <td>{(): 1}</td>\n",
       "    </tr>\n",
       "    <tr>\n",
       "      <td>frozenset({1})</td>\n",
       "      <td>{(): x, (1): 1}</td>\n",
       "      <td>(1)*C[{1}]</td>\n",
       "      <td>0</td>\n",
       "      <td>{(): x, (1): 1}</td>\n",
       "    </tr>\n",
       "    <tr>\n",
       "      <td>frozenset({4})</td>\n",
       "      <td>{(): x, (4): 1}</td>\n",
       "      <td>(1)*C[{4}]</td>\n",
       "      <td>0</td>\n",
       "      <td>{(): x, (4): 1}</td>\n",
       "    </tr>\n",
       "    <tr>\n",
       "      <td>frozenset({1, 4})</td>\n",
       "      <td>{(): 1 + x^2, (1): x, (4): x, (1, 4): 1}</td>\n",
       "      <td>(1)*C[{1, 4}]</td>\n",
       "      <td>0</td>\n",
       "      <td>{(): 1 + x^2, (1): x, (4): x, (1, 4): 1}</td>\n",
       "    </tr>\n",
       "    <tr>\n",
       "      <td>frozenset({2})</td>\n",
       "      <td>{(): x, (2): 1}</td>\n",
       "      <td>(1)*C[{2}]</td>\n",
       "      <td>0</td>\n",
       "      <td>{(): x, (2): 1}</td>\n",
       "    </tr>\n",
       "    <tr>\n",
       "      <td>frozenset({1, 2})</td>\n",
       "      <td>{(): 1 + x^2, (1): x, (2): x, (1, 2): 1}</td>\n",
       "      <td>(1)*C[{1, 2}]</td>\n",
       "      <td>0</td>\n",
       "      <td>{(): 1 + x^2, (2): x, (1): x, (1, 2): 1}</td>\n",
       "    </tr>\n",
       "    <tr>\n",
       "      <td>frozenset({2, 4})</td>\n",
       "      <td>{(): 1 + x^2, (4): x, (2): x, (2, 4): 1}</td>\n",
       "      <td>(1)*C[{2, 4}]</td>\n",
       "      <td>0</td>\n",
       "      <td>{(): 1 + x^2, (2): x, (4): x, (2, 4): 1}</td>\n",
       "    </tr>\n",
       "    <tr>\n",
       "      <td>frozenset({1, 2, 4})</td>\n",
       "      <td>{(): x^-1 + 4*x + x^3, (1): 1 + x^2, (4): 1 + x^2, (1, 4): x, (2): 1 + x^2, (1, 2): x, (2, 4): x, (1, 2, 4): 1}</td>\n",
       "      <td>(1)*C[{1, 2, 4}]</td>\n",
       "      <td>0</td>\n",
       "      <td>{(): x^-1 + 4*x + x^3, (2): 1 + x^2, (1): 1 + x^2, (1, 2): x, (4): 1 + x^2, (1, 4): x, (2, 4): x, (1, 2, 4): 1}</td>\n",
       "    </tr>\n",
       "    <tr>\n",
       "      <td>frozenset({3})</td>\n",
       "      <td>{(): x, (3): 1}</td>\n",
       "      <td>(1)*C[{3}]</td>\n",
       "      <td>0</td>\n",
       "      <td>{(): x, (3): 1}</td>\n",
       "    </tr>\n",
       "    <tr>\n",
       "      <td>frozenset({1, 3})</td>\n",
       "      <td>{(): 1 + x^2, (1): x, (3): x, (1, 3): 1}</td>\n",
       "      <td>(1)*C[{1, 3}]</td>\n",
       "      <td>0</td>\n",
       "      <td>{(): 1 + x^2, (3): x, (1): x, (1, 3): 1}</td>\n",
       "    </tr>\n",
       "    <tr>\n",
       "      <td>frozenset({2, 3})</td>\n",
       "      <td>{(): 1 + x^2, (2): x, (3): x, (2, 3): 1}</td>\n",
       "      <td>(1)*C[{2, 3}]</td>\n",
       "      <td>0</td>\n",
       "      <td>{(): 1 + x^2, (2): x, (3): x, (2, 3): 1}</td>\n",
       "    </tr>\n",
       "    <tr>\n",
       "      <td>frozenset({1, 2, 3})</td>\n",
       "      <td>{(): x^-1 + 4*x + x^3, (1): 1 + x^2, (2): 1 + x^2, (1, 2): x, (3): 1 + x^2, (1, 3): x, (2, 3): x, (1, 2, 3): 1}</td>\n",
       "      <td>(1)*C[{1, 2, 3}]</td>\n",
       "      <td>0</td>\n",
       "      <td>{(): x^-1 + 4*x + x^3, (2): 1 + x^2, (3): 1 + x^2, (2, 3): x, (1): 1 + x^2, (1, 2): x, (1, 3): x, (1, 2, 3): 1}</td>\n",
       "    </tr>\n",
       "    <tr>\n",
       "      <td>frozenset({3, 4})</td>\n",
       "      <td>{(): 1 + x^2, (4): x, (3): x, (3, 4): 1}</td>\n",
       "      <td>(1)*C[{3, 4}]</td>\n",
       "      <td>0</td>\n",
       "      <td>{(): 1 + x^2, (3): x, (4): x, (3, 4): 1}</td>\n",
       "    </tr>\n",
       "    <tr>\n",
       "      <td>frozenset({1, 3, 4})</td>\n",
       "      <td>{(): x^-1 + 4*x + x^3, (1): 1 + x^2, (4): 1 + x^2, (1, 4): x, (3): 1 + x^2, (1, 3): x, (3, 4): x, (1, 3, 4): 1}</td>\n",
       "      <td>(1)*C[{1, 3, 4}]</td>\n",
       "      <td>0</td>\n",
       "      <td>{(): x^-1 + 4*x + x^3, (3): 1 + x^2, (1): 1 + x^2, (1, 3): x, (4): 1 + x^2, (1, 4): x, (3, 4): x, (1, 3, 4): 1}</td>\n",
       "    </tr>\n",
       "    <tr>\n",
       "      <td>frozenset({2, 3, 4})</td>\n",
       "      <td>{(): x^-1 + 4*x + x^3, (4): 1 + x^2, (2): 1 + x^2, (2, 4): x, (3): 1 + x^2, (2, 3): x, (3, 4): x, (2, 3, 4): 1}</td>\n",
       "      <td>(1)*C[{2, 3, 4}]</td>\n",
       "      <td>0</td>\n",
       "      <td>{(): x^-1 + 4*x + x^3, (2): 1 + x^2, (3): 1 + x^2, (2, 3): x, (4): 1 + x^2, (2, 4): x, (3, 4): x, (2, 3, 4): 1}</td>\n",
       "    </tr>\n",
       "    <tr>\n",
       "      <td>frozenset({0})</td>\n",
       "      <td>{(): x, (0): 1}</td>\n",
       "      <td>(x^-1 + x)*C[set()]</td>\n",
       "      <td>x^-1 + x</td>\n",
       "      <td>{(): x^-1 + x}</td>\n",
       "    </tr>\n",
       "    <tr>\n",
       "      <td>frozenset({0, 3})</td>\n",
       "      <td>{(): 1 + x^2, (3): x, (0): x, (0, 3): 1}</td>\n",
       "      <td>(1)*C[set()] + (x^-1 + x)*C[{3}]</td>\n",
       "      <td>1</td>\n",
       "      <td>{(): 2 + x^2, (3): x^-1 + x}</td>\n",
       "    </tr>\n",
       "    <tr>\n",
       "      <td>frozenset({0, 1})</td>\n",
       "      <td>{(): 1 + x^2, (1): x, (0): x, (0, 1): 1}</td>\n",
       "      <td>(1)*C[set()] + (x^-1 + x)*C[{1}]</td>\n",
       "      <td>1</td>\n",
       "      <td>{(): 2 + x^2, (1): x^-1 + x}</td>\n",
       "    </tr>\n",
       "    <tr>\n",
       "      <td>frozenset({0, 1, 3})</td>\n",
       "      <td>{(): x^-1 + 4*x + x^3, (1): 1 + x^2, (3): 1 + x^2, (1, 3): x, (0): 1 + x^2, (0, 3): x, (0, 1): x, (0, 1, 3): 1}</td>\n",
       "      <td>(x^-1 + x)*C[set()] + (1)*C[{1}] + (1)*C[{3}] + (x^-1 + x)*C[{1, 3}]</td>\n",
       "      <td>x^-1 + x</td>\n",
       "      <td>{(): 2*x^-1 + 5*x + x^3, (1): 2 + x^2, (3): 2 + x^2, (1, 3): x^-1 + x}</td>\n",
       "    </tr>\n",
       "    <tr>\n",
       "      <td>frozenset({0, 2})</td>\n",
       "      <td>{(): 1 + x^2, (2): x, (0): x, (0, 2): 1}</td>\n",
       "      <td>(1)*C[set()] + (x^-1 + x)*C[{2}]</td>\n",
       "      <td>1</td>\n",
       "      <td>{(): 2 + x^2, (2): x^-1 + x}</td>\n",
       "    </tr>\n",
       "    <tr>\n",
       "      <td>frozenset({0, 1, 2})</td>\n",
       "      <td>{(): x^-1 + 4*x + x^3, (1): 1 + x^2, (2): 1 + x^2, (1, 2): x, (0): 1 + x^2, (0, 1): x, (0, 2): x, (0, 1, 2): 1}</td>\n",
       "      <td>(x^-1 + x)*C[set()] + (1)*C[{1}] + (1)*C[{2}] + (x^-1 + x)*C[{1, 2}]</td>\n",
       "      <td>x^-1 + x</td>\n",
       "      <td>{(): 2*x^-1 + 5*x + x^3, (1): 2 + x^2, (2): 2 + x^2, (1, 2): x^-1 + x}</td>\n",
       "    </tr>\n",
       "    <tr>\n",
       "      <td>frozenset({0, 2, 3})</td>\n",
       "      <td>{(): x^-1 + 4*x + x^3, (2): 1 + x^2, (3): 1 + x^2, (2, 3): x, (0): 1 + x^2, (0, 3): x, (0, 2): x, (0, 2, 3): 1}</td>\n",
       "      <td>(x^-1 + x)*C[set()] + (1)*C[{2}] + (1)*C[{3}] + (x^-1 + x)*C[{2, 3}]</td>\n",
       "      <td>x^-1 + x</td>\n",
       "      <td>{(): 2*x^-1 + 5*x + x^3, (2): 2 + x^2, (3): 2 + x^2, (2, 3): x^-1 + x}</td>\n",
       "    </tr>\n",
       "    <tr>\n",
       "      <td>frozenset({0, 4})</td>\n",
       "      <td>{(): 1 + x^2, (4): x, (0): x, (0, 4): 1}</td>\n",
       "      <td>(1)*C[set()] + (x^-1 + x)*C[{4}]</td>\n",
       "      <td>1</td>\n",
       "      <td>{(): 2 + x^2, (4): x^-1 + x}</td>\n",
       "    </tr>\n",
       "    <tr>\n",
       "      <td>frozenset({0, 1, 4})</td>\n",
       "      <td>{(): x^-1 + 4*x + x^3, (1): 1 + x^2, (4): 1 + x^2, (1, 4): x, (0): 1 + x^2, (0, 1): x, (0, 4): x, (0, 1, 4): 1}</td>\n",
       "      <td>(x^-1 + x)*C[set()] + (1)*C[{1}] + (1)*C[{4}] + (x^-1 + x)*C[{1, 4}]</td>\n",
       "      <td>x^-1 + x</td>\n",
       "      <td>{(): 2*x^-1 + 5*x + x^3, (1): 2 + x^2, (4): 2 + x^2, (1, 4): x^-1 + x}</td>\n",
       "    </tr>\n",
       "    <tr>\n",
       "      <td>frozenset({0, 2, 4})</td>\n",
       "      <td>{(): x^-1 + 4*x + x^3, (4): 1 + x^2, (2): 1 + x^2, (2, 4): x, (0): 1 + x^2, (0, 2): x, (0, 4): x, (0, 2, 4): 1}</td>\n",
       "      <td>(x^-1 + x)*C[set()] + (1)*C[{4}] + (1)*C[{2}] + (x^-1 + x)*C[{2, 4}]</td>\n",
       "      <td>x^-1 + x</td>\n",
       "      <td>{(): 2*x^-1 + 5*x + x^3, (4): 2 + x^2, (2): 2 + x^2, (2, 4): x^-1 + x}</td>\n",
       "    </tr>\n",
       "    <tr>\n",
       "      <td>frozenset({0, 3, 4})</td>\n",
       "      <td>{(): x^-1 + 4*x + x^3, (4): 1 + x^2, (3): 1 + x^2, (3, 4): x, (0): 1 + x^2, (0, 3): x, (0, 4): x, (0, 3, 4): 1}</td>\n",
       "      <td>(x^-1 + x)*C[set()] + (1)*C[{4}] + (1)*C[{3}] + (x^-1 + x)*C[{3, 4}]</td>\n",
       "      <td>x^-1 + x</td>\n",
       "      <td>{(): 2*x^-1 + 5*x + x^3, (4): 2 + x^2, (3): 2 + x^2, (3, 4): x^-1 + x}</td>\n",
       "    </tr>\n",
       "    <tr>\n",
       "      <td>frozenset({0, 1, 2, 3, 4})</td>\n",
       "      <td>{(): x^-2 + 21 + 21*x^2 + x^4, (1): x^-1 + 7*x + x^3, (4): x^-1 + 7*x + x^3, (1, 4): 1 + x^2, (2): x^-1 + 7*x + x^3, (1, 2): 1 + x^2, (2, 4): 1 + x^2, (1, 2, 4): x, (3): x^-1 + 7*x + x^3, (1, 3): 1 + x^2, (2, 3): 1 + x^2, (1, 2, 3): x, (3, 4): 1 + x^2, (1, 3, 4): x, (2, 3, 4): x, (0): x^-1 + 7*x + x^3, (0, 3): 1 + x^2, (0, 1): 1 + x^2, (0, 1, 3): x, (0, 2): 1 + x^2, (0, 1, 2): x, (0, 2, 3): x, (0, 4): 1 + x^2, (0, 1, 4): x, (0, 2, 4): x, (0, 3, 4): x, (0, 1, 2, 3, 4): 1}</td>\n",
       "      <td>(x^-2 + 7 + x^2)*C[set()] + (x^-1 + x)*C[{1}] + (x^-1 + x)*C[{4}] + (1)*C[{1, 4}] + (x^-1 + x)*C[{2}] + (1)*C[{1, 2}] + (1)*C[{2, 4}] + (x^-1 + x)*C[{3}] + (1)*C[{1, 3}] + (1)*C[{2, 3}] + (1)*C[{3, 4}] + (1)*C[{1, 2, 3, 4}]</td>\n",
       "      <td>x^-2 + 7 + x^2</td>\n",
       "      <td>{(): 2*x^-2 + 28 + 22*x^2 + x^4, (1): 2*x^-1 + 8*x + x^3, (4): 2*x^-1 + 8*x + x^3, (1, 4): 2 + x^2, (2): 2*x^-1 + 8*x + x^3, (1, 2): 2 + x^2, (2, 4): 2 + x^2, (3): 2*x^-1 + 8*x + x^3, (1, 3): 2 + x^2, (2, 3): 2 + x^2, (3, 4): 2 + x^2, (1, 2, 3): x, (1, 2, 4): x, (1, 3, 4): x, (2, 3, 4): x, (1, 2, 3, 4): 1}</td>\n",
       "    </tr>\n",
       "  </tbody>\n",
       "</table></div>"
      ],
      "text/plain": [
       "<IPython.core.display.HTML object>"
      ]
     },
     "metadata": {},
     "output_type": "display_data"
    }
   ],
   "source": [
    "import pandas as pd\n",
    "df = pd.DataFrame(data)\n",
    "display(HTML(\n",
    "    f'<div style=\"height: 400px; overflow-y: auto;\">{df.to_html(index=False)}</div>'\n",
    "))"
   ]
  },
  {
   "cell_type": "code",
   "execution_count": 22,
   "metadata": {
    "vscode": {
     "languageId": "sage"
    }
   },
   "outputs": [
    {
     "name": "stdout",
     "output_type": "stream",
     "text": [
      "chow polynomial of M x^3 + 21*x^2 + 21*x + 1\n",
      "chow polynomial of M.delete(e) x^3 + 11*x^2 + 11*x + 1\n",
      "chow polynomial of M.contract(e) x^2 + 7*x + 1\n"
     ]
    }
   ],
   "source": [
    "print(\"chow polynomial of M\", chow_polynomial(M))\n",
    "print(\"chow polynomial of M.delete(e)\", chow_polynomial(M.delete(e)))\n",
    "print(\"chow polynomial of M.contract(e)\", chow_polynomial(M.contract(e)))"
   ]
  },
  {
   "cell_type": "code",
   "execution_count": 23,
   "metadata": {
    "vscode": {
     "languageId": "sage"
    }
   },
   "outputs": [
    {
     "name": "stdout",
     "output_type": "stream",
     "text": [
      "{frozenset(): x^-2 + 21 + 21*x^2 + x^4, frozenset({1}): x^-1 + 7*x + x^3, frozenset({4}): x^-1 + 7*x + x^3, frozenset({1, 4}): 1 + x^2, frozenset({2}): x^-1 + 7*x + x^3, frozenset({1, 2}): 1 + x^2, frozenset({2, 4}): 1 + x^2, frozenset({1, 2, 4}): x, frozenset({3}): x^-1 + 7*x + x^3, frozenset({1, 3}): 1 + x^2, frozenset({2, 3}): 1 + x^2, frozenset({1, 2, 3}): x, frozenset({3, 4}): 1 + x^2, frozenset({1, 3, 4}): x, frozenset({2, 3, 4}): x, frozenset({0}): x^-1 + 7*x + x^3, frozenset({0, 3}): 1 + x^2, frozenset({0, 1}): 1 + x^2, frozenset({0, 1, 3}): x, frozenset({0, 2}): 1 + x^2, frozenset({0, 1, 2}): x, frozenset({0, 2, 3}): x, frozenset({0, 4}): 1 + x^2, frozenset({0, 1, 4}): x, frozenset({0, 2, 4}): x, frozenset({0, 3, 4}): x, frozenset({0, 1, 2, 3, 4}): 1}\n",
      "{frozenset(): 2*x^-2 + 28 + 22*x^2 + x^4, frozenset({1}): 2*x^-1 + 8*x + x^3, frozenset({4}): 2*x^-1 + 8*x + x^3, frozenset({1, 4}): 2 + x^2, frozenset({2}): 2*x^-1 + 8*x + x^3, frozenset({1, 2}): 2 + x^2, frozenset({2, 4}): 2 + x^2, frozenset({1, 2, 4}): x, frozenset({3}): 2*x^-1 + 8*x + x^3, frozenset({1, 3}): 2 + x^2, frozenset({2, 3}): 2 + x^2, frozenset({1, 2, 3}): x, frozenset({3, 4}): 2 + x^2, frozenset({1, 3, 4}): x, frozenset({2, 3, 4}): x, frozenset({1, 2, 3, 4}): 1}\n",
      "{frozenset(): x^-2 + 11 + 11*x^2 + x^4, frozenset({2}): x^-1 + 4*x + x^3, frozenset({3}): x^-1 + 4*x + x^3, frozenset({2, 3}): 1 + x^2, frozenset({1}): x^-1 + 4*x + x^3, frozenset({1, 2}): 1 + x^2, frozenset({1, 3}): 1 + x^2, frozenset({1, 2, 3}): x, frozenset({4}): x^-1 + 4*x + x^3, frozenset({1, 4}): 1 + x^2, frozenset({2, 4}): 1 + x^2, frozenset({1, 2, 4}): x, frozenset({3, 4}): 1 + x^2, frozenset({1, 3, 4}): x, frozenset({2, 3, 4}): x, frozenset({1, 2, 3, 4}): 1}\n"
     ]
    }
   ],
   "source": [
    "print(E(C_basis.values()[-1]).monomial_coefficients())\n",
    "print(E_mdele(delta(C_basis.values()[-1])).monomial_coefficients())\n",
    "print(E_mdele(C_dele_basis.values()[-1]).monomial_coefficients())"
   ]
  },
  {
   "cell_type": "code",
   "execution_count": 24,
   "metadata": {
    "vscode": {
     "languageId": "sage"
    }
   },
   "outputs": [
    {
     "name": "stdout",
     "output_type": "stream",
     "text": [
      "(x^-2+17+11*x^2)*E[frozenset()] + (x^-1+4*x)*E[frozenset({1})] + (x^-1+4*x)*E[frozenset({4})] + E[frozenset({1, 4})] + (x^-1+4*x)*E[frozenset({2})] + E[frozenset({1, 2})] + E[frozenset({2, 4})] + (x^-1+4*x)*E[frozenset({3})] + E[frozenset({1, 3})] + E[frozenset({2, 3})] + E[frozenset({3, 4})]\n",
      "(x^-2+7+x^2)*C[frozenset()] + (x^-1+x)*C[frozenset({1})] + (x^-1+x)*C[frozenset({4})] + C[frozenset({1, 4})] + (x^-1+x)*C[frozenset({2})] + C[frozenset({1, 2})] + C[frozenset({2, 4})] + (x^-1+x)*C[frozenset({3})] + C[frozenset({1, 3})] + C[frozenset({2, 3})] + C[frozenset({3, 4})]\n"
     ]
    }
   ],
   "source": [
    "diff = E_mdele(delta(C_basis.values()[-1])) - E_mdele(C_dele_basis.values()[-1])\n",
    "print(diff)\n",
    "print(C_dele(diff))\n"
   ]
  },
  {
   "cell_type": "code",
   "execution_count": 25,
   "metadata": {
    "vscode": {
     "languageId": "sage"
    }
   },
   "outputs": [
    {
     "data": {
      "text/plain": [
       "(2*x^-3+21*x^-1+11*x-9*x^3-x^5)*E[frozenset()] + (2*x^-2+7-2*x^2-x^4)*E[frozenset({2})] + (2*x^-2+7-2*x^2-x^4)*E[frozenset({3})] + (2*x^-1+x-x^3)*E[frozenset({2, 3})] + (2*x^-2+7-2*x^2-x^4)*E[frozenset({1})] + (2*x^-1+x-x^3)*E[frozenset({1, 2})] + (2*x^-1+x-x^3)*E[frozenset({1, 3})] + (2-x^2)*E[frozenset({1, 2, 3})] + (2*x^-2+7-2*x^2-x^4)*E[frozenset({4})] + (2*x^-1+x-x^3)*E[frozenset({1, 4})] + (2*x^-1+x-x^3)*E[frozenset({2, 4})] + (2-x^2)*E[frozenset({1, 2, 4})] + (2*x^-1+x-x^3)*E[frozenset({3, 4})] + (2-x^2)*E[frozenset({1, 3, 4})] + (2-x^2)*E[frozenset({2, 3, 4})] + (x^-1-x)*E[frozenset({1, 2, 3, 4})]"
      ]
     },
     "execution_count": 25,
     "metadata": {},
     "output_type": "execute_result"
    }
   ],
   "source": [
    "E_mdele((2*x^-1-x)*C_dele_basis.values()[-1] - (x^-1)*E_mdele_basis.values()[-1])"
   ]
  },
  {
   "cell_type": "code",
   "execution_count": 26,
   "metadata": {
    "vscode": {
     "languageId": "sage"
    }
   },
   "outputs": [
    {
     "data": {
      "text/plain": [
       "False"
      ]
     },
     "execution_count": 26,
     "metadata": {},
     "output_type": "execute_result"
    }
   ],
   "source": [
    "delta(C_basis.values()[-1]+E_basis.values()[-1]) == (2*x^-1-x)*C_dele_basis.values()[-1]"
   ]
  }
 ],
 "metadata": {
  "kernelspec": {
   "display_name": "SageMath 10.3",
   "language": "sage",
   "name": "sagemath"
  },
  "language_info": {
   "codemirror_mode": {
    "name": "ipython",
    "version": 3
   },
   "file_extension": ".py",
   "mimetype": "text/x-python",
   "name": "python",
   "nbconvert_exporter": "python",
   "pygments_lexer": "ipython3",
   "version": "3.11.9"
  }
 },
 "nbformat": 4,
 "nbformat_minor": 2
}
