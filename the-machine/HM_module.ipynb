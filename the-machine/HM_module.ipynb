{
 "cells": [
  {
   "cell_type": "code",
   "execution_count": 37,
   "metadata": {
    "vscode": {
     "languageId": "sage"
    }
   },
   "outputs": [],
   "source": [
    "import sys\n",
    "import os\n",
    "# Get the current directory and parent directory\n",
    "current_dir = os.getcwd()\n",
    "parent_dir = os.path.dirname(current_dir)\n",
    "sys.path.insert(0, parent_dir)\n",
    "sys.path.insert(0, current_dir)\n",
    "\n",
    "from HM_module import *\n",
    "from custom_matroid_functions import *"
   ]
  },
  {
   "cell_type": "code",
   "execution_count": 38,
   "metadata": {
    "vscode": {
     "languageId": "sage"
    }
   },
   "outputs": [
    {
     "name": "stdout",
     "output_type": "stream",
     "text": [
      "frozenset({0, 1, 2})\n",
      "deleting  0\n"
     ]
    }
   ],
   "source": [
    "P = LaurentPolynomialRing(ZZ, 'x')\n",
    "x = P.gen() \n",
    "k, n = 3,3\n",
    "M = matroids.CompleteGraphic(n)\n",
    "M = matroids.Uniform(k, n)\n",
    "r = M.rank()\n",
    "rank_func = lambda x : M.rank(x)\n",
    "\n",
    "#e = next(x for x in M.groundset() if x  not in M.coloops())\n",
    "e = list(M.groundset())[0]\n",
    "print(M.groundset())\n",
    "print(\"deleting \", e)\n",
    "mdele = M.delete(e)\n",
    "L = M.lattice_of_flats()\n",
    "Ldel_e = mdele.lattice_of_flats()\n",
    "Eq_M = create_deformed_algebra(M, base_ring=P)\n",
    "Eq_mdele = create_deformed_algebra(mdele, base_ring=P)\n",
    "E_mdele = Eq_mdele.natural()"
   ]
  },
  {
   "cell_type": "code",
   "execution_count": 39,
   "metadata": {
    "vscode": {
     "languageId": "sage"
    }
   },
   "outputs": [],
   "source": [
    "E = Eq_M.natural()\n",
    "E_basis = E.basis()\n",
    "E_mdele_basis = E_mdele.basis()\n",
    "\n",
    "C = Eq_M.C()\n",
    "C_dele = Eq_mdele.C()\n",
    "C_basis = C.basis()\n",
    "C_dele_basis = C_dele.basis()\n",
    "\n",
    "Z = Eq_M.zeta()\n",
    "Z_basis = Z.basis()"
   ]
  },
  {
   "cell_type": "code",
   "execution_count": 40,
   "metadata": {
    "vscode": {
     "languageId": "sage"
    }
   },
   "outputs": [
    {
     "name": "stdout",
     "output_type": "stream",
     "text": [
      "rank of M:  3\n",
      "chow polynomial of M:  x^2 + 4*x + 1\n"
     ]
    }
   ],
   "source": [
    "print(\"rank of M: \", r)\n",
    "print(\"chow polynomial of M: \", chow_polynomial(M))"
   ]
  },
  {
   "cell_type": "code",
   "execution_count": 41,
   "metadata": {
    "vscode": {
     "languageId": "sage"
    }
   },
   "outputs": [
    {
     "data": {
      "text/plain": [
       "-(x^-1-2*x+x^3)*E[frozenset()] - (1-x^2)*E[frozenset({2})] - (1-x^2)*E[frozenset({1})] - x*E[frozenset({1, 2})] - (1-x^2)*E[frozenset({0})] - x*E[frozenset({0, 1})] - x*E[frozenset({0, 2})] + E[frozenset({0, 1, 2})]"
      ]
     },
     "execution_count": 41,
     "metadata": {},
     "output_type": "execute_result"
    }
   ],
   "source": [
    "E(C_basis.values()[-1])"
   ]
  },
  {
   "cell_type": "code",
   "execution_count": 42,
   "metadata": {
    "vscode": {
     "languageId": "sage"
    }
   },
   "outputs": [
    {
     "name": "stdout",
     "output_type": "stream",
     "text": [
      "(x^-1+4*x+x^3)*C[frozenset()] + (1+x^2)*C[frozenset({0})] + x*C[frozenset({0, 2})] + (1+x^2)*C[frozenset({1})] + x*C[frozenset({0, 1})] + (1+x^2)*C[frozenset({2})] + x*C[frozenset({1, 2})] + C[frozenset({0, 1, 2})]\n",
      "Palindromic check failed for F=frozenset()\n",
      "Sum = x^-3 - 7*x^-1 + 5*x - x^3\n",
      "Sum(1/t) = -x^-3 + 5*x^-1 - 7*x + x^3\n"
     ]
    },
    {
     "data": {
      "text/plain": [
       "False"
      ]
     },
     "execution_count": 42,
     "metadata": {},
     "output_type": "execute_result"
    }
   ],
   "source": [
    "print(C(E_basis.values()[-1]))\n",
    "Eq_M.is_in_Hp(C[E_basis.keys()[-1]])"
   ]
  },
  {
   "cell_type": "code",
   "execution_count": 43,
   "metadata": {
    "vscode": {
     "languageId": "sage"
    }
   },
   "outputs": [
    {
     "name": "stdout",
     "output_type": "stream",
     "text": [
      "{frozenset(): C[frozenset()], frozenset({2}): C[frozenset({2})], frozenset({1}): C[frozenset({1})], frozenset({1, 2}): C[frozenset({1, 2})], frozenset({0}): (x^-1-x)*C[frozenset()], frozenset({0, 1}): -C[frozenset()] + (x^-1-x)*C[frozenset({1})], frozenset({0, 2}): -C[frozenset()] + (x^-1-x)*C[frozenset({2})], frozenset({0, 1, 2}): -(x^-1+x)*C[frozenset()] - C[frozenset({2})] - C[frozenset({1})] + (x^-1-x)*C[frozenset({1, 2})]}\n",
      "Palindromic check failed for F=frozenset()\n",
      "Sum = x^-3 - 7*x^-1 + 5*x - x^3\n",
      "Sum(1/t) = -x^-3 + 5*x^-1 - 7*x + x^3\n"
     ]
    },
    {
     "data": {
      "text/plain": [
       "False"
      ]
     },
     "execution_count": 43,
     "metadata": {},
     "output_type": "execute_result"
    }
   ],
   "source": [
    "rev = {value: key for key, value in E_basis.items()}\n",
    "\n",
    "def delta_flat(F):\n",
    "    F_del_e = frozenset(set(F) - {e})\n",
    "    assert F_del_e in Ldel_e\n",
    "    return Eq_mdele(x^( - M.rank(F) + mdele.rank(F_del_e)) * E_mdele_basis[F_del_e])\n",
    "    \n",
    "def delta(elem):\n",
    "    rep = E(elem)\n",
    "    decom = {monomial: coeff for monomial, coeff in zip(rep.monomials(), rep.coefficients())}\n",
    "    return Eq_mdele(sum(decom[F] * delta_flat(rev[F]) for F in decom))\n",
    "\n",
    "dict = {F : C_dele(delta(C[F])) for F in E_basis.keys()}\n",
    "print(dict)\n",
    "\n",
    "from IPython.display import HTML, display\n",
    "\n",
    "data = []\n",
    "basis_list_mdele = list(Ldel_e)\n",
    "\n",
    "for F in dict:\n",
    "    elem = dict[F]\n",
    "    coeff_empty = elem.monomial_coefficients().get(frozenset(), 0)\n",
    "    \n",
    "    # Format delta(zeta(F)) with x_i notation\n",
    "    terms = []\n",
    "    for S, coeff in elem.monomial_coefficients().items():\n",
    "        terms.append(f\"({coeff})*C[{str(set(S))}]\")\n",
    "    formatted_expr = \" + \".join(terms) if terms else \"0\"\n",
    "    if 1:\n",
    "        data.append({\n",
    "            'F': str(F),\n",
    "            'in std basis': E(C[F]).monomial_coefficients(),\n",
    "            'delta(C(F))': formatted_expr,\n",
    "            'coeff of empty': coeff_empty,\n",
    "            'in natural basis': E_mdele(elem).monomial_coefficients()\n",
    "        })\n",
    "\n",
    "Eq_mdele.is_in_Hp(dict[M.groundset()])"
   ]
  },
  {
   "cell_type": "code",
   "execution_count": 44,
   "metadata": {
    "vscode": {
     "languageId": "sage"
    }
   },
   "outputs": [
    {
     "data": {
      "text/html": [
       "<div style=\"height: 400px; overflow-y: auto;\"><table border=\"1\" class=\"dataframe\">\n",
       "  <thead>\n",
       "    <tr style=\"text-align: right;\">\n",
       "      <th>F</th>\n",
       "      <th>in std basis</th>\n",
       "      <th>delta(C(F))</th>\n",
       "      <th>coeff of empty</th>\n",
       "      <th>in natural basis</th>\n",
       "    </tr>\n",
       "  </thead>\n",
       "  <tbody>\n",
       "    <tr>\n",
       "      <td>frozenset()</td>\n",
       "      <td>{(): 1}</td>\n",
       "      <td>(1)*C[set()]</td>\n",
       "      <td>1</td>\n",
       "      <td>{(): 1}</td>\n",
       "    </tr>\n",
       "    <tr>\n",
       "      <td>frozenset({2})</td>\n",
       "      <td>{(): -x, (2): 1}</td>\n",
       "      <td>(1)*C[{2}]</td>\n",
       "      <td>0</td>\n",
       "      <td>{(): -x, (2): 1}</td>\n",
       "    </tr>\n",
       "    <tr>\n",
       "      <td>frozenset({1})</td>\n",
       "      <td>{(): -x, (1): 1}</td>\n",
       "      <td>(1)*C[{1}]</td>\n",
       "      <td>0</td>\n",
       "      <td>{(): -x, (1): 1}</td>\n",
       "    </tr>\n",
       "    <tr>\n",
       "      <td>frozenset({1, 2})</td>\n",
       "      <td>{(): -1 + x^2, (2): -x, (1): -x, (1, 2): 1}</td>\n",
       "      <td>(1)*C[{1, 2}]</td>\n",
       "      <td>0</td>\n",
       "      <td>{(): -1 + x^2, (2): -x, (1): -x, (1, 2): 1}</td>\n",
       "    </tr>\n",
       "    <tr>\n",
       "      <td>frozenset({0})</td>\n",
       "      <td>{(): -x, (0): 1}</td>\n",
       "      <td>(x^-1 - x)*C[set()]</td>\n",
       "      <td>x^-1 - x</td>\n",
       "      <td>{(): x^-1 - x}</td>\n",
       "    </tr>\n",
       "    <tr>\n",
       "      <td>frozenset({0, 1})</td>\n",
       "      <td>{(): -1 + x^2, (1): -x, (0): -x, (0, 1): 1}</td>\n",
       "      <td>(-1)*C[set()] + (x^-1 - x)*C[{1}]</td>\n",
       "      <td>-1</td>\n",
       "      <td>{(): -2 + x^2, (1): x^-1 - x}</td>\n",
       "    </tr>\n",
       "    <tr>\n",
       "      <td>frozenset({0, 2})</td>\n",
       "      <td>{(): -1 + x^2, (2): -x, (0): -x, (0, 2): 1}</td>\n",
       "      <td>(-1)*C[set()] + (x^-1 - x)*C[{2}]</td>\n",
       "      <td>-1</td>\n",
       "      <td>{(): -2 + x^2, (2): x^-1 - x}</td>\n",
       "    </tr>\n",
       "    <tr>\n",
       "      <td>frozenset({0, 1, 2})</td>\n",
       "      <td>{(): -x^-1 + 2*x - x^3, (2): -1 + x^2, (1): -1 + x^2, (1, 2): -x, (0): -1 + x^2, (0, 1): -x, (0, 2): -x, (0, 1, 2): 1}</td>\n",
       "      <td>(-x^-1 - x)*C[set()] + (-1)*C[{2}] + (-1)*C[{1}] + (x^-1 - x)*C[{1, 2}]</td>\n",
       "      <td>-x^-1 - x</td>\n",
       "      <td>{(): -2*x^-1 + 3*x - x^3, (2): -2 + x^2, (1): -2 + x^2, (1, 2): x^-1 - x}</td>\n",
       "    </tr>\n",
       "  </tbody>\n",
       "</table></div>"
      ],
      "text/plain": [
       "<IPython.core.display.HTML object>"
      ]
     },
     "metadata": {},
     "output_type": "display_data"
    }
   ],
   "source": [
    "import pandas as pd\n",
    "df = pd.DataFrame(data)\n",
    "display(HTML(\n",
    "    f'<div style=\"height: 400px; overflow-y: auto;\">{df.to_html(index=False)}</div>'\n",
    "))"
   ]
  },
  {
   "cell_type": "code",
   "execution_count": 45,
   "metadata": {
    "vscode": {
     "languageId": "sage"
    }
   },
   "outputs": [
    {
     "name": "stdout",
     "output_type": "stream",
     "text": [
      "chow polynomial of M x^2 + 4*x + 1\n",
      "chow polynomial of M.delete(e) x + 1\n",
      "chow polynomial of M.contract(e) x + 1\n"
     ]
    }
   ],
   "source": [
    "print(\"chow polynomial of M\", chow_polynomial(M))\n",
    "print(\"chow polynomial of M.delete(e)\", chow_polynomial(M.delete(e)))\n",
    "print(\"chow polynomial of M.contract(e)\", chow_polynomial(M.contract(e)))"
   ]
  },
  {
   "cell_type": "code",
   "execution_count": 46,
   "metadata": {
    "vscode": {
     "languageId": "sage"
    }
   },
   "outputs": [
    {
     "name": "stdout",
     "output_type": "stream",
     "text": [
      "-(x^-1-2*x+x^3)*E[frozenset()] - (1-x^2)*E[frozenset({2})] - (1-x^2)*E[frozenset({1})] - x*E[frozenset({1, 2})] - (1-x^2)*E[frozenset({0})] - x*E[frozenset({0, 1})] - x*E[frozenset({0, 2})] + E[frozenset({0, 1, 2})]\n",
      "-(2*x^-1-3*x+x^3)*E[frozenset()] - (2-x^2)*E[frozenset({2})] - (2-x^2)*E[frozenset({1})] + (x^-1-x)*E[frozenset({1, 2})]\n",
      "-(1-x^2)*E[frozenset()] - x*E[frozenset({2})] - x*E[frozenset({1})] + E[frozenset({1, 2})]\n"
     ]
    }
   ],
   "source": [
    "print(E(C_basis.values()[-1]))\n",
    "print(E_mdele(delta(C_basis.values()[-1])))\n",
    "print(E_mdele(C_dele_basis.values()[-1]))"
   ]
  },
  {
   "cell_type": "code",
   "execution_count": 47,
   "metadata": {
    "vscode": {
     "languageId": "sage"
    }
   },
   "outputs": [
    {
     "name": "stdout",
     "output_type": "stream",
     "text": [
      "-(2*x^-1-1-3*x+x^2+x^3)*E[frozenset()] - (2-x-x^2)*E[frozenset({2})] - (2-x-x^2)*E[frozenset({1})] + (x^-1-1-x)*E[frozenset({1, 2})]\n",
      "-(x^-1+x)*C[frozenset()] - C[frozenset({2})] - C[frozenset({1})] + (x^-1-1-x)*C[frozenset({1, 2})]\n"
     ]
    }
   ],
   "source": [
    "diff = E_mdele(delta(C_basis.values()[-1])) - E_mdele(C_dele_basis.values()[-1])\n",
    "print(diff)\n",
    "print(C_dele(diff))\n"
   ]
  },
  {
   "cell_type": "code",
   "execution_count": 48,
   "metadata": {
    "vscode": {
     "languageId": "sage"
    }
   },
   "outputs": [
    {
     "name": "stdout",
     "output_type": "stream",
     "text": [
      "(x^-1-x+x^2)*C[frozenset({1, 2})]\n"
     ]
    }
   ],
   "source": [
    "def expectedcomp(F):\n",
    "    F_del_e = frozenset(set(F) - {e})\n",
    "    return (x^2-x+x^(-1))*C_dele(F_del_e)\n",
    "\n",
    "print(expectedcomp(E_basis.keys()[-1]))"
   ]
  }
 ],
 "metadata": {
  "kernelspec": {
   "display_name": "SageMath 10.3",
   "language": "sage",
   "name": "SageMath-10.3"
  },
  "language_info": {
   "codemirror_mode": {
    "name": "ipython",
    "version": 3
   },
   "file_extension": ".py",
   "mimetype": "text/x-python",
   "name": "python",
   "nbconvert_exporter": "python",
   "pygments_lexer": "ipython3",
   "version": "3.11.8"
  }
 },
 "nbformat": 4,
 "nbformat_minor": 2
}
